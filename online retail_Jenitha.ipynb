{
 "cells": [
  {
   "cell_type": "markdown",
   "id": "aa317fe2-cd93-4ed9-b228-3d49e9486522",
   "metadata": {},
   "source": [
    "**Identify customer segments for online retail with the use of K-means clustering using Online_Retail dataset**"
   ]
  },
  {
   "cell_type": "code",
   "execution_count": 87,
   "id": "23e7620c-9cea-47fc-96db-e25fea4b440e",
   "metadata": {},
   "outputs": [],
   "source": [
    "# Supress unnecessary warnings\n",
    "\n",
    "import warnings\n",
    "warnings.filterwarnings('ignore')"
   ]
  },
  {
   "cell_type": "code",
   "execution_count": 89,
   "id": "c88f3858-8c12-4d64-98ce-b087455f33b6",
   "metadata": {},
   "outputs": [],
   "source": [
    "# Import the NumPy and Pandas packages\n",
    "\n",
    "import numpy as np\n",
    "import pandas as pd"
   ]
  },
  {
   "cell_type": "code",
   "execution_count": 91,
   "id": "a10406cd-77e3-42e7-a66e-a7ca0d542794",
   "metadata": {},
   "outputs": [],
   "source": [
    "# Read the dataset\n",
    "\n",
    "Online_Retail = pd.read_excel(\"Online Retail.xlsx\")"
   ]
  },
  {
   "cell_type": "code",
   "execution_count": 94,
   "id": "1fcd71ce-6b55-4a76-9adb-a7c3538efc7c",
   "metadata": {},
   "outputs": [
    {
     "data": {
      "text/html": [
       "<div>\n",
       "<style scoped>\n",
       "    .dataframe tbody tr th:only-of-type {\n",
       "        vertical-align: middle;\n",
       "    }\n",
       "\n",
       "    .dataframe tbody tr th {\n",
       "        vertical-align: top;\n",
       "    }\n",
       "\n",
       "    .dataframe thead th {\n",
       "        text-align: right;\n",
       "    }\n",
       "</style>\n",
       "<table border=\"1\" class=\"dataframe\">\n",
       "  <thead>\n",
       "    <tr style=\"text-align: right;\">\n",
       "      <th></th>\n",
       "      <th>InvoiceNo</th>\n",
       "      <th>StockCode</th>\n",
       "      <th>Description</th>\n",
       "      <th>Quantity</th>\n",
       "      <th>InvoiceDate</th>\n",
       "      <th>UnitPrice</th>\n",
       "      <th>CustomerID</th>\n",
       "      <th>Country</th>\n",
       "    </tr>\n",
       "  </thead>\n",
       "  <tbody>\n",
       "    <tr>\n",
       "      <th>0</th>\n",
       "      <td>536365</td>\n",
       "      <td>85123A</td>\n",
       "      <td>WHITE HANGING HEART T-LIGHT HOLDER</td>\n",
       "      <td>6</td>\n",
       "      <td>2010-12-01 08:26:00</td>\n",
       "      <td>2.55</td>\n",
       "      <td>17850.0</td>\n",
       "      <td>United Kingdom</td>\n",
       "    </tr>\n",
       "    <tr>\n",
       "      <th>1</th>\n",
       "      <td>536365</td>\n",
       "      <td>71053</td>\n",
       "      <td>WHITE METAL LANTERN</td>\n",
       "      <td>6</td>\n",
       "      <td>2010-12-01 08:26:00</td>\n",
       "      <td>3.39</td>\n",
       "      <td>17850.0</td>\n",
       "      <td>United Kingdom</td>\n",
       "    </tr>\n",
       "    <tr>\n",
       "      <th>2</th>\n",
       "      <td>536365</td>\n",
       "      <td>84406B</td>\n",
       "      <td>CREAM CUPID HEARTS COAT HANGER</td>\n",
       "      <td>8</td>\n",
       "      <td>2010-12-01 08:26:00</td>\n",
       "      <td>2.75</td>\n",
       "      <td>17850.0</td>\n",
       "      <td>United Kingdom</td>\n",
       "    </tr>\n",
       "    <tr>\n",
       "      <th>3</th>\n",
       "      <td>536365</td>\n",
       "      <td>84029G</td>\n",
       "      <td>KNITTED UNION FLAG HOT WATER BOTTLE</td>\n",
       "      <td>6</td>\n",
       "      <td>2010-12-01 08:26:00</td>\n",
       "      <td>3.39</td>\n",
       "      <td>17850.0</td>\n",
       "      <td>United Kingdom</td>\n",
       "    </tr>\n",
       "    <tr>\n",
       "      <th>4</th>\n",
       "      <td>536365</td>\n",
       "      <td>84029E</td>\n",
       "      <td>RED WOOLLY HOTTIE WHITE HEART.</td>\n",
       "      <td>6</td>\n",
       "      <td>2010-12-01 08:26:00</td>\n",
       "      <td>3.39</td>\n",
       "      <td>17850.0</td>\n",
       "      <td>United Kingdom</td>\n",
       "    </tr>\n",
       "  </tbody>\n",
       "</table>\n",
       "</div>"
      ],
      "text/plain": [
       "  InvoiceNo StockCode                          Description  Quantity  \\\n",
       "0    536365    85123A   WHITE HANGING HEART T-LIGHT HOLDER         6   \n",
       "1    536365     71053                  WHITE METAL LANTERN         6   \n",
       "2    536365    84406B       CREAM CUPID HEARTS COAT HANGER         8   \n",
       "3    536365    84029G  KNITTED UNION FLAG HOT WATER BOTTLE         6   \n",
       "4    536365    84029E       RED WOOLLY HOTTIE WHITE HEART.         6   \n",
       "\n",
       "          InvoiceDate  UnitPrice  CustomerID         Country  \n",
       "0 2010-12-01 08:26:00       2.55     17850.0  United Kingdom  \n",
       "1 2010-12-01 08:26:00       3.39     17850.0  United Kingdom  \n",
       "2 2010-12-01 08:26:00       2.75     17850.0  United Kingdom  \n",
       "3 2010-12-01 08:26:00       3.39     17850.0  United Kingdom  \n",
       "4 2010-12-01 08:26:00       3.39     17850.0  United Kingdom  "
      ]
     },
     "execution_count": 94,
     "metadata": {},
     "output_type": "execute_result"
    }
   ],
   "source": [
    "# Display the top 5 rows\n",
    "\n",
    "Online_Retail.head()"
   ]
  },
  {
   "cell_type": "code",
   "execution_count": 96,
   "id": "1ea778d0-874d-4c0e-8da0-d28d1a4fcb73",
   "metadata": {},
   "outputs": [
    {
     "data": {
      "text/plain": [
       "(541909, 8)"
      ]
     },
     "execution_count": 96,
     "metadata": {},
     "output_type": "execute_result"
    }
   ],
   "source": [
    "# Inspect the shape of the dataset\n",
    "\n",
    "Online_Retail.shape"
   ]
  },
  {
   "cell_type": "code",
   "execution_count": 98,
   "id": "69058eda-b555-4fc1-b55d-fabd383cfc9f",
   "metadata": {},
   "outputs": [
    {
     "data": {
      "text/plain": [
       "Index(['InvoiceNo', 'StockCode', 'Description', 'Quantity', 'InvoiceDate',\n",
       "       'UnitPrice', 'CustomerID', 'Country'],\n",
       "      dtype='object')"
      ]
     },
     "execution_count": 98,
     "metadata": {},
     "output_type": "execute_result"
    }
   ],
   "source": [
    "# Inspect the different columsn in the dataset\n",
    "\n",
    "Online_Retail.columns"
   ]
  },
  {
   "cell_type": "code",
   "execution_count": 100,
   "id": "be229a38-73df-4379-8e0e-f26a055884ad",
   "metadata": {},
   "outputs": [
    {
     "name": "stdout",
     "output_type": "stream",
     "text": [
      "<class 'pandas.core.frame.DataFrame'>\n",
      "RangeIndex: 541909 entries, 0 to 541908\n",
      "Data columns (total 8 columns):\n",
      " #   Column       Non-Null Count   Dtype         \n",
      "---  ------       --------------   -----         \n",
      " 0   InvoiceNo    541909 non-null  object        \n",
      " 1   StockCode    541909 non-null  object        \n",
      " 2   Description  540455 non-null  object        \n",
      " 3   Quantity     541909 non-null  int64         \n",
      " 4   InvoiceDate  541909 non-null  datetime64[ns]\n",
      " 5   UnitPrice    541909 non-null  float64       \n",
      " 6   CustomerID   406829 non-null  float64       \n",
      " 7   Country      541909 non-null  object        \n",
      "dtypes: datetime64[ns](1), float64(2), int64(1), object(4)\n",
      "memory usage: 33.1+ MB\n"
     ]
    }
   ],
   "source": [
    "# Check the info to see the types of the feature variables and the null values present\n",
    "\n",
    "Online_Retail.info()"
   ]
  },
  {
   "cell_type": "code",
   "execution_count": 102,
   "id": "440c9177-6a76-4f8a-a2cd-03074eb1949c",
   "metadata": {},
   "outputs": [
    {
     "data": {
      "text/html": [
       "<div>\n",
       "<style scoped>\n",
       "    .dataframe tbody tr th:only-of-type {\n",
       "        vertical-align: middle;\n",
       "    }\n",
       "\n",
       "    .dataframe tbody tr th {\n",
       "        vertical-align: top;\n",
       "    }\n",
       "\n",
       "    .dataframe thead th {\n",
       "        text-align: right;\n",
       "    }\n",
       "</style>\n",
       "<table border=\"1\" class=\"dataframe\">\n",
       "  <thead>\n",
       "    <tr style=\"text-align: right;\">\n",
       "      <th></th>\n",
       "      <th>Quantity</th>\n",
       "      <th>InvoiceDate</th>\n",
       "      <th>UnitPrice</th>\n",
       "      <th>CustomerID</th>\n",
       "    </tr>\n",
       "  </thead>\n",
       "  <tbody>\n",
       "    <tr>\n",
       "      <th>count</th>\n",
       "      <td>541909.000000</td>\n",
       "      <td>541909</td>\n",
       "      <td>541909.000000</td>\n",
       "      <td>406829.000000</td>\n",
       "    </tr>\n",
       "    <tr>\n",
       "      <th>mean</th>\n",
       "      <td>9.552250</td>\n",
       "      <td>2011-07-04 13:34:57.156386048</td>\n",
       "      <td>4.611114</td>\n",
       "      <td>15287.690570</td>\n",
       "    </tr>\n",
       "    <tr>\n",
       "      <th>min</th>\n",
       "      <td>-80995.000000</td>\n",
       "      <td>2010-12-01 08:26:00</td>\n",
       "      <td>-11062.060000</td>\n",
       "      <td>12346.000000</td>\n",
       "    </tr>\n",
       "    <tr>\n",
       "      <th>25%</th>\n",
       "      <td>1.000000</td>\n",
       "      <td>2011-03-28 11:34:00</td>\n",
       "      <td>1.250000</td>\n",
       "      <td>13953.000000</td>\n",
       "    </tr>\n",
       "    <tr>\n",
       "      <th>50%</th>\n",
       "      <td>3.000000</td>\n",
       "      <td>2011-07-19 17:17:00</td>\n",
       "      <td>2.080000</td>\n",
       "      <td>15152.000000</td>\n",
       "    </tr>\n",
       "    <tr>\n",
       "      <th>75%</th>\n",
       "      <td>10.000000</td>\n",
       "      <td>2011-10-19 11:27:00</td>\n",
       "      <td>4.130000</td>\n",
       "      <td>16791.000000</td>\n",
       "    </tr>\n",
       "    <tr>\n",
       "      <th>max</th>\n",
       "      <td>80995.000000</td>\n",
       "      <td>2011-12-09 12:50:00</td>\n",
       "      <td>38970.000000</td>\n",
       "      <td>18287.000000</td>\n",
       "    </tr>\n",
       "    <tr>\n",
       "      <th>std</th>\n",
       "      <td>218.081158</td>\n",
       "      <td>NaN</td>\n",
       "      <td>96.759853</td>\n",
       "      <td>1713.600303</td>\n",
       "    </tr>\n",
       "  </tbody>\n",
       "</table>\n",
       "</div>"
      ],
      "text/plain": [
       "            Quantity                    InvoiceDate      UnitPrice  \\\n",
       "count  541909.000000                         541909  541909.000000   \n",
       "mean        9.552250  2011-07-04 13:34:57.156386048       4.611114   \n",
       "min    -80995.000000            2010-12-01 08:26:00  -11062.060000   \n",
       "25%         1.000000            2011-03-28 11:34:00       1.250000   \n",
       "50%         3.000000            2011-07-19 17:17:00       2.080000   \n",
       "75%        10.000000            2011-10-19 11:27:00       4.130000   \n",
       "max     80995.000000            2011-12-09 12:50:00   38970.000000   \n",
       "std       218.081158                            NaN      96.759853   \n",
       "\n",
       "          CustomerID  \n",
       "count  406829.000000  \n",
       "mean    15287.690570  \n",
       "min     12346.000000  \n",
       "25%     13953.000000  \n",
       "50%     15152.000000  \n",
       "75%     16791.000000  \n",
       "max     18287.000000  \n",
       "std      1713.600303  "
      ]
     },
     "execution_count": 102,
     "metadata": {},
     "output_type": "execute_result"
    }
   ],
   "source": [
    "Online_Retail.describe()"
   ]
  },
  {
   "cell_type": "markdown",
   "id": "26e5a513-4840-4443-97e7-c9055fbc0dcf",
   "metadata": {},
   "source": [
    "**Missing value handling**"
   ]
  },
  {
   "cell_type": "code",
   "execution_count": 104,
   "id": "d71d1d6f-7c12-4855-a642-01f4b262f56a",
   "metadata": {},
   "outputs": [
    {
     "data": {
      "text/plain": [
       "InvoiceNo           0\n",
       "StockCode           0\n",
       "Description      1454\n",
       "Quantity            0\n",
       "InvoiceDate         0\n",
       "UnitPrice           0\n",
       "CustomerID     135080\n",
       "Country             0\n",
       "dtype: int64"
      ]
     },
     "execution_count": 104,
     "metadata": {},
     "output_type": "execute_result"
    }
   ],
   "source": [
    "# Check the number of missing values in each column\n",
    "\n",
    "Online_Retail.isnull().sum()"
   ]
  },
  {
   "cell_type": "code",
   "execution_count": 106,
   "id": "c0a1ecfe-3478-49f2-8d30-67e91a5e1866",
   "metadata": {},
   "outputs": [
    {
     "data": {
      "text/plain": [
       "CustomerID     24.926694\n",
       "Description     0.268311\n",
       "InvoiceNo       0.000000\n",
       "StockCode       0.000000\n",
       "Quantity        0.000000\n",
       "InvoiceDate     0.000000\n",
       "UnitPrice       0.000000\n",
       "Country         0.000000\n",
       "dtype: float64"
      ]
     },
     "execution_count": 106,
     "metadata": {},
     "output_type": "execute_result"
    }
   ],
   "source": [
    "# Calculate the proportion of non-missing values for each column\n",
    "Online_Retail_missing = Online_Retail.count() / len(Online_Retail)\n",
    "\n",
    "# Convert the proportions to percentages and calculate the percentage of missing values for each column\n",
    "Online_Retail_missing = (1 - Online_Retail_missing) * 100\n",
    "\n",
    "# Sort the missing percentages in descending order \n",
    "Online_Retail_missing.sort_values(ascending=False)"
   ]
  },
  {
   "cell_type": "code",
   "execution_count": 108,
   "id": "d3434158-5c16-4940-97ce-df703c73a6e6",
   "metadata": {},
   "outputs": [],
   "source": [
    "# Description percentage is very less hence removed\n",
    "\n",
    "Online_Retail.dropna(subset=['Description'], inplace=True)"
   ]
  },
  {
   "cell_type": "code",
   "execution_count": 110,
   "id": "4ca9fc60-a08d-4b43-93d9-1b4e5eb8685c",
   "metadata": {},
   "outputs": [
    {
     "data": {
      "text/plain": [
       "InvoiceNo           0\n",
       "StockCode           0\n",
       "Description         0\n",
       "Quantity            0\n",
       "InvoiceDate         0\n",
       "UnitPrice           0\n",
       "CustomerID     133626\n",
       "Country             0\n",
       "dtype: int64"
      ]
     },
     "execution_count": 110,
     "metadata": {},
     "output_type": "execute_result"
    }
   ],
   "source": [
    "# Check the number of null values again\n",
    "Online_Retail.isnull().sum()"
   ]
  },
  {
   "cell_type": "code",
   "execution_count": 112,
   "id": "42b5e0ba-ca88-458c-9bee-3aa1e3483897",
   "metadata": {},
   "outputs": [],
   "source": [
    "#Fill missing values with 0\n",
    "Online_Retail['CustomerID'].fillna(0, inplace=True)"
   ]
  },
  {
   "cell_type": "code",
   "execution_count": 114,
   "id": "5d5a3b73-992f-439d-911a-dab0b5cb1f4d",
   "metadata": {},
   "outputs": [
    {
     "data": {
      "text/plain": [
       "InvoiceNo      0\n",
       "StockCode      0\n",
       "Description    0\n",
       "Quantity       0\n",
       "InvoiceDate    0\n",
       "UnitPrice      0\n",
       "CustomerID     0\n",
       "Country        0\n",
       "dtype: int64"
      ]
     },
     "execution_count": 114,
     "metadata": {},
     "output_type": "execute_result"
    }
   ],
   "source": [
    "# Check the number of null values again\n",
    "Online_Retail.isnull().sum()"
   ]
  },
  {
   "cell_type": "code",
   "execution_count": 116,
   "id": "552e77e0-0f29-46b2-ab36-23fd23f0b8b0",
   "metadata": {},
   "outputs": [],
   "source": [
    "Online_Retail = Online_Retail.drop_duplicates()"
   ]
  },
  {
   "cell_type": "code",
   "execution_count": 118,
   "id": "a3e1655c-fbf0-48fe-b56d-2ef74bed4f24",
   "metadata": {},
   "outputs": [
    {
     "name": "stdout",
     "output_type": "stream",
     "text": [
      "<class 'pandas.core.frame.DataFrame'>\n",
      "Index: 535187 entries, 0 to 541908\n",
      "Data columns (total 8 columns):\n",
      " #   Column       Non-Null Count   Dtype         \n",
      "---  ------       --------------   -----         \n",
      " 0   InvoiceNo    535187 non-null  object        \n",
      " 1   StockCode    535187 non-null  object        \n",
      " 2   Description  535187 non-null  object        \n",
      " 3   Quantity     535187 non-null  int64         \n",
      " 4   InvoiceDate  535187 non-null  datetime64[ns]\n",
      " 5   UnitPrice    535187 non-null  float64       \n",
      " 6   CustomerID   535187 non-null  float64       \n",
      " 7   Country      535187 non-null  object        \n",
      "dtypes: datetime64[ns](1), float64(2), int64(1), object(4)\n",
      "memory usage: 36.7+ MB\n"
     ]
    }
   ],
   "source": [
    "Online_Retail.info()"
   ]
  },
  {
   "cell_type": "markdown",
   "id": "13dc3736-7d84-435d-bbc5-98f7f86e51de",
   "metadata": {},
   "source": [
    "**Correct data types**"
   ]
  },
  {
   "cell_type": "code",
   "execution_count": 120,
   "id": "ba4f4883-5840-4296-8ae5-d1fa511d7ec7",
   "metadata": {},
   "outputs": [],
   "source": [
    "# Convert CustomerID column from float to string\n",
    "Online_Retail['CustomerID'] = Online_Retail['CustomerID'].astype(str)"
   ]
  },
  {
   "cell_type": "markdown",
   "id": "d25fa161-27a6-4d03-9945-f5fbf395d406",
   "metadata": {},
   "source": [
    "**Transform the data**"
   ]
  },
  {
   "cell_type": "code",
   "execution_count": 122,
   "id": "0e77a8f6-a5ca-402b-816e-e44c8a2a84b7",
   "metadata": {},
   "outputs": [],
   "source": [
    "# For numerical columns like price, sales, etc.:\n",
    "from sklearn.preprocessing import StandardScaler, MinMaxScaler\n",
    "\n",
    "scaler = StandardScaler()\n",
    "Online_Retail[['UnitPrice', 'Quantity']] = scaler.fit_transform(Online_Retail[['UnitPrice', 'Quantity']])\n"
   ]
  },
  {
   "cell_type": "markdown",
   "id": "a71f284b-fdb2-4707-80ff-27fbf9e84342",
   "metadata": {},
   "source": [
    "**Encode Categorical Columns**"
   ]
  },
  {
   "cell_type": "code",
   "execution_count": 124,
   "id": "cf008e05-a820-4623-a18c-fc5659a639df",
   "metadata": {},
   "outputs": [],
   "source": [
    "#For text data create dummies\n",
    "# One-hot encoding\n",
    "Online_Retail = pd.get_dummies(Online_Retail, columns=['Country'], drop_first=True)"
   ]
  },
  {
   "cell_type": "code",
   "execution_count": 128,
   "id": "42737ee2-7a76-4b40-aa26-2df296ae93a2",
   "metadata": {},
   "outputs": [
    {
     "data": {
      "text/html": [
       "<div>\n",
       "<style scoped>\n",
       "    .dataframe tbody tr th:only-of-type {\n",
       "        vertical-align: middle;\n",
       "    }\n",
       "\n",
       "    .dataframe tbody tr th {\n",
       "        vertical-align: top;\n",
       "    }\n",
       "\n",
       "    .dataframe thead th {\n",
       "        text-align: right;\n",
       "    }\n",
       "</style>\n",
       "<table border=\"1\" class=\"dataframe\">\n",
       "  <thead>\n",
       "    <tr style=\"text-align: right;\">\n",
       "      <th></th>\n",
       "      <th>InvoiceNo</th>\n",
       "      <th>StockCode</th>\n",
       "      <th>Description</th>\n",
       "      <th>Quantity</th>\n",
       "      <th>InvoiceDate</th>\n",
       "      <th>UnitPrice</th>\n",
       "      <th>CustomerID</th>\n",
       "      <th>Country_Austria</th>\n",
       "      <th>Country_Bahrain</th>\n",
       "      <th>Country_Belgium</th>\n",
       "      <th>...</th>\n",
       "      <th>Country_RSA</th>\n",
       "      <th>Country_Saudi Arabia</th>\n",
       "      <th>Country_Singapore</th>\n",
       "      <th>Country_Spain</th>\n",
       "      <th>Country_Sweden</th>\n",
       "      <th>Country_Switzerland</th>\n",
       "      <th>Country_USA</th>\n",
       "      <th>Country_United Arab Emirates</th>\n",
       "      <th>Country_United Kingdom</th>\n",
       "      <th>Country_Unspecified</th>\n",
       "    </tr>\n",
       "  </thead>\n",
       "  <tbody>\n",
       "    <tr>\n",
       "      <th>0</th>\n",
       "      <td>536365</td>\n",
       "      <td>85123A</td>\n",
       "      <td>WHITE HANGING HEART T-LIGHT HOLDER</td>\n",
       "      <td>-0.016761</td>\n",
       "      <td>2010-12-01 08:26:00</td>\n",
       "      <td>-0.021520</td>\n",
       "      <td>17850.0</td>\n",
       "      <td>False</td>\n",
       "      <td>False</td>\n",
       "      <td>False</td>\n",
       "      <td>...</td>\n",
       "      <td>False</td>\n",
       "      <td>False</td>\n",
       "      <td>False</td>\n",
       "      <td>False</td>\n",
       "      <td>False</td>\n",
       "      <td>False</td>\n",
       "      <td>False</td>\n",
       "      <td>False</td>\n",
       "      <td>True</td>\n",
       "      <td>False</td>\n",
       "    </tr>\n",
       "    <tr>\n",
       "      <th>1</th>\n",
       "      <td>536365</td>\n",
       "      <td>71053</td>\n",
       "      <td>WHITE METAL LANTERN</td>\n",
       "      <td>-0.016761</td>\n",
       "      <td>2010-12-01 08:26:00</td>\n",
       "      <td>-0.012892</td>\n",
       "      <td>17850.0</td>\n",
       "      <td>False</td>\n",
       "      <td>False</td>\n",
       "      <td>False</td>\n",
       "      <td>...</td>\n",
       "      <td>False</td>\n",
       "      <td>False</td>\n",
       "      <td>False</td>\n",
       "      <td>False</td>\n",
       "      <td>False</td>\n",
       "      <td>False</td>\n",
       "      <td>False</td>\n",
       "      <td>False</td>\n",
       "      <td>True</td>\n",
       "      <td>False</td>\n",
       "    </tr>\n",
       "    <tr>\n",
       "      <th>2</th>\n",
       "      <td>536365</td>\n",
       "      <td>84406B</td>\n",
       "      <td>CREAM CUPID HEARTS COAT HANGER</td>\n",
       "      <td>-0.007631</td>\n",
       "      <td>2010-12-01 08:26:00</td>\n",
       "      <td>-0.019465</td>\n",
       "      <td>17850.0</td>\n",
       "      <td>False</td>\n",
       "      <td>False</td>\n",
       "      <td>False</td>\n",
       "      <td>...</td>\n",
       "      <td>False</td>\n",
       "      <td>False</td>\n",
       "      <td>False</td>\n",
       "      <td>False</td>\n",
       "      <td>False</td>\n",
       "      <td>False</td>\n",
       "      <td>False</td>\n",
       "      <td>False</td>\n",
       "      <td>True</td>\n",
       "      <td>False</td>\n",
       "    </tr>\n",
       "    <tr>\n",
       "      <th>3</th>\n",
       "      <td>536365</td>\n",
       "      <td>84029G</td>\n",
       "      <td>KNITTED UNION FLAG HOT WATER BOTTLE</td>\n",
       "      <td>-0.016761</td>\n",
       "      <td>2010-12-01 08:26:00</td>\n",
       "      <td>-0.012892</td>\n",
       "      <td>17850.0</td>\n",
       "      <td>False</td>\n",
       "      <td>False</td>\n",
       "      <td>False</td>\n",
       "      <td>...</td>\n",
       "      <td>False</td>\n",
       "      <td>False</td>\n",
       "      <td>False</td>\n",
       "      <td>False</td>\n",
       "      <td>False</td>\n",
       "      <td>False</td>\n",
       "      <td>False</td>\n",
       "      <td>False</td>\n",
       "      <td>True</td>\n",
       "      <td>False</td>\n",
       "    </tr>\n",
       "    <tr>\n",
       "      <th>4</th>\n",
       "      <td>536365</td>\n",
       "      <td>84029E</td>\n",
       "      <td>RED WOOLLY HOTTIE WHITE HEART.</td>\n",
       "      <td>-0.016761</td>\n",
       "      <td>2010-12-01 08:26:00</td>\n",
       "      <td>-0.012892</td>\n",
       "      <td>17850.0</td>\n",
       "      <td>False</td>\n",
       "      <td>False</td>\n",
       "      <td>False</td>\n",
       "      <td>...</td>\n",
       "      <td>False</td>\n",
       "      <td>False</td>\n",
       "      <td>False</td>\n",
       "      <td>False</td>\n",
       "      <td>False</td>\n",
       "      <td>False</td>\n",
       "      <td>False</td>\n",
       "      <td>False</td>\n",
       "      <td>True</td>\n",
       "      <td>False</td>\n",
       "    </tr>\n",
       "  </tbody>\n",
       "</table>\n",
       "<p>5 rows × 44 columns</p>\n",
       "</div>"
      ],
      "text/plain": [
       "  InvoiceNo StockCode                          Description  Quantity  \\\n",
       "0    536365    85123A   WHITE HANGING HEART T-LIGHT HOLDER -0.016761   \n",
       "1    536365     71053                  WHITE METAL LANTERN -0.016761   \n",
       "2    536365    84406B       CREAM CUPID HEARTS COAT HANGER -0.007631   \n",
       "3    536365    84029G  KNITTED UNION FLAG HOT WATER BOTTLE -0.016761   \n",
       "4    536365    84029E       RED WOOLLY HOTTIE WHITE HEART. -0.016761   \n",
       "\n",
       "          InvoiceDate  UnitPrice CustomerID  Country_Austria  Country_Bahrain  \\\n",
       "0 2010-12-01 08:26:00  -0.021520    17850.0            False            False   \n",
       "1 2010-12-01 08:26:00  -0.012892    17850.0            False            False   \n",
       "2 2010-12-01 08:26:00  -0.019465    17850.0            False            False   \n",
       "3 2010-12-01 08:26:00  -0.012892    17850.0            False            False   \n",
       "4 2010-12-01 08:26:00  -0.012892    17850.0            False            False   \n",
       "\n",
       "   Country_Belgium  ...  Country_RSA  Country_Saudi Arabia  Country_Singapore  \\\n",
       "0            False  ...        False                 False              False   \n",
       "1            False  ...        False                 False              False   \n",
       "2            False  ...        False                 False              False   \n",
       "3            False  ...        False                 False              False   \n",
       "4            False  ...        False                 False              False   \n",
       "\n",
       "   Country_Spain  Country_Sweden  Country_Switzerland  Country_USA  \\\n",
       "0          False           False                False        False   \n",
       "1          False           False                False        False   \n",
       "2          False           False                False        False   \n",
       "3          False           False                False        False   \n",
       "4          False           False                False        False   \n",
       "\n",
       "   Country_United Arab Emirates  Country_United Kingdom  Country_Unspecified  \n",
       "0                         False                    True                False  \n",
       "1                         False                    True                False  \n",
       "2                         False                    True                False  \n",
       "3                         False                    True                False  \n",
       "4                         False                    True                False  \n",
       "\n",
       "[5 rows x 44 columns]"
      ]
     },
     "execution_count": 128,
     "metadata": {},
     "output_type": "execute_result"
    }
   ],
   "source": [
    "Online_Retail.head()"
   ]
  },
  {
   "cell_type": "code",
   "execution_count": 130,
   "id": "a2037785-17b4-4cf7-86a6-2f7e0051337e",
   "metadata": {},
   "outputs": [
    {
     "data": {
      "text/plain": [
       "(535187, 44)"
      ]
     },
     "execution_count": 130,
     "metadata": {},
     "output_type": "execute_result"
    }
   ],
   "source": [
    "Online_Retail.shape"
   ]
  },
  {
   "cell_type": "markdown",
   "id": "36415f74-998e-4f1d-b306-017c9743bd4d",
   "metadata": {},
   "source": [
    "**Feature Engineering**"
   ]
  },
  {
   "cell_type": "code",
   "execution_count": 132,
   "id": "4b509973-ec80-43ba-a994-488da841ac1b",
   "metadata": {},
   "outputs": [],
   "source": [
    "# Create amount column\n",
    "Online_Retail['Amount'] = Online_Retail['UnitPrice'] * Online_Retail['Quantity']"
   ]
  },
  {
   "cell_type": "code",
   "execution_count": 134,
   "id": "007c5360-5e11-4e23-a2c6-01177fb8e793",
   "metadata": {},
   "outputs": [],
   "source": [
    "Online_Retail['InvoiceDate'] = pd.to_datetime(Online_Retail['InvoiceDate'])"
   ]
  },
  {
   "cell_type": "code",
   "execution_count": 136,
   "id": "3d311c76-e1ad-428e-8541-5747c07c4513",
   "metadata": {},
   "outputs": [],
   "source": [
    "Online_Retail['Year'] = Online_Retail['InvoiceDate'].dt.year\n",
    "Online_Retail['Month'] = Online_Retail['InvoiceDate'].dt.month\n",
    "Online_Retail['Day'] = Online_Retail['InvoiceDate'].dt.day\n",
    "Online_Retail['Hour'] = Online_Retail['InvoiceDate'].dt.hour\n",
    "Online_Retail['Date'] = Online_Retail['InvoiceDate'].dt.date\n"
   ]
  },
  {
   "cell_type": "code",
   "execution_count": 138,
   "id": "e0424f88-db1c-4000-a567-811d86d96987",
   "metadata": {},
   "outputs": [],
   "source": [
    "Online_Retail['InvoiceDayOfWeek'] = Online_Retail['InvoiceDate'].dt.dayofweek\n",
    "Online_Retail['IsWeekend'] = (Online_Retail['InvoiceDayOfWeek'] >= 5).astype(int)\n"
   ]
  },
  {
   "cell_type": "code",
   "execution_count": 140,
   "id": "2f1fa9ef-67ef-47d6-ab80-1fab59334489",
   "metadata": {},
   "outputs": [
    {
     "data": {
      "text/html": [
       "<div>\n",
       "<style scoped>\n",
       "    .dataframe tbody tr th:only-of-type {\n",
       "        vertical-align: middle;\n",
       "    }\n",
       "\n",
       "    .dataframe tbody tr th {\n",
       "        vertical-align: top;\n",
       "    }\n",
       "\n",
       "    .dataframe thead th {\n",
       "        text-align: right;\n",
       "    }\n",
       "</style>\n",
       "<table border=\"1\" class=\"dataframe\">\n",
       "  <thead>\n",
       "    <tr style=\"text-align: right;\">\n",
       "      <th></th>\n",
       "      <th>InvoiceNo</th>\n",
       "      <th>StockCode</th>\n",
       "      <th>Description</th>\n",
       "      <th>Quantity</th>\n",
       "      <th>InvoiceDate</th>\n",
       "      <th>UnitPrice</th>\n",
       "      <th>CustomerID</th>\n",
       "      <th>Country_Austria</th>\n",
       "      <th>Country_Bahrain</th>\n",
       "      <th>Country_Belgium</th>\n",
       "      <th>...</th>\n",
       "      <th>Country_United Kingdom</th>\n",
       "      <th>Country_Unspecified</th>\n",
       "      <th>Amount</th>\n",
       "      <th>Year</th>\n",
       "      <th>Month</th>\n",
       "      <th>Day</th>\n",
       "      <th>Hour</th>\n",
       "      <th>Date</th>\n",
       "      <th>InvoiceDayOfWeek</th>\n",
       "      <th>IsWeekend</th>\n",
       "    </tr>\n",
       "  </thead>\n",
       "  <tbody>\n",
       "    <tr>\n",
       "      <th>0</th>\n",
       "      <td>536365</td>\n",
       "      <td>85123A</td>\n",
       "      <td>WHITE HANGING HEART T-LIGHT HOLDER</td>\n",
       "      <td>-0.016761</td>\n",
       "      <td>2010-12-01 08:26:00</td>\n",
       "      <td>-0.021520</td>\n",
       "      <td>17850.0</td>\n",
       "      <td>False</td>\n",
       "      <td>False</td>\n",
       "      <td>False</td>\n",
       "      <td>...</td>\n",
       "      <td>True</td>\n",
       "      <td>False</td>\n",
       "      <td>0.000361</td>\n",
       "      <td>2010</td>\n",
       "      <td>12</td>\n",
       "      <td>1</td>\n",
       "      <td>8</td>\n",
       "      <td>2010-12-01</td>\n",
       "      <td>2</td>\n",
       "      <td>0</td>\n",
       "    </tr>\n",
       "    <tr>\n",
       "      <th>1</th>\n",
       "      <td>536365</td>\n",
       "      <td>71053</td>\n",
       "      <td>WHITE METAL LANTERN</td>\n",
       "      <td>-0.016761</td>\n",
       "      <td>2010-12-01 08:26:00</td>\n",
       "      <td>-0.012892</td>\n",
       "      <td>17850.0</td>\n",
       "      <td>False</td>\n",
       "      <td>False</td>\n",
       "      <td>False</td>\n",
       "      <td>...</td>\n",
       "      <td>True</td>\n",
       "      <td>False</td>\n",
       "      <td>0.000216</td>\n",
       "      <td>2010</td>\n",
       "      <td>12</td>\n",
       "      <td>1</td>\n",
       "      <td>8</td>\n",
       "      <td>2010-12-01</td>\n",
       "      <td>2</td>\n",
       "      <td>0</td>\n",
       "    </tr>\n",
       "    <tr>\n",
       "      <th>2</th>\n",
       "      <td>536365</td>\n",
       "      <td>84406B</td>\n",
       "      <td>CREAM CUPID HEARTS COAT HANGER</td>\n",
       "      <td>-0.007631</td>\n",
       "      <td>2010-12-01 08:26:00</td>\n",
       "      <td>-0.019465</td>\n",
       "      <td>17850.0</td>\n",
       "      <td>False</td>\n",
       "      <td>False</td>\n",
       "      <td>False</td>\n",
       "      <td>...</td>\n",
       "      <td>True</td>\n",
       "      <td>False</td>\n",
       "      <td>0.000149</td>\n",
       "      <td>2010</td>\n",
       "      <td>12</td>\n",
       "      <td>1</td>\n",
       "      <td>8</td>\n",
       "      <td>2010-12-01</td>\n",
       "      <td>2</td>\n",
       "      <td>0</td>\n",
       "    </tr>\n",
       "    <tr>\n",
       "      <th>3</th>\n",
       "      <td>536365</td>\n",
       "      <td>84029G</td>\n",
       "      <td>KNITTED UNION FLAG HOT WATER BOTTLE</td>\n",
       "      <td>-0.016761</td>\n",
       "      <td>2010-12-01 08:26:00</td>\n",
       "      <td>-0.012892</td>\n",
       "      <td>17850.0</td>\n",
       "      <td>False</td>\n",
       "      <td>False</td>\n",
       "      <td>False</td>\n",
       "      <td>...</td>\n",
       "      <td>True</td>\n",
       "      <td>False</td>\n",
       "      <td>0.000216</td>\n",
       "      <td>2010</td>\n",
       "      <td>12</td>\n",
       "      <td>1</td>\n",
       "      <td>8</td>\n",
       "      <td>2010-12-01</td>\n",
       "      <td>2</td>\n",
       "      <td>0</td>\n",
       "    </tr>\n",
       "    <tr>\n",
       "      <th>4</th>\n",
       "      <td>536365</td>\n",
       "      <td>84029E</td>\n",
       "      <td>RED WOOLLY HOTTIE WHITE HEART.</td>\n",
       "      <td>-0.016761</td>\n",
       "      <td>2010-12-01 08:26:00</td>\n",
       "      <td>-0.012892</td>\n",
       "      <td>17850.0</td>\n",
       "      <td>False</td>\n",
       "      <td>False</td>\n",
       "      <td>False</td>\n",
       "      <td>...</td>\n",
       "      <td>True</td>\n",
       "      <td>False</td>\n",
       "      <td>0.000216</td>\n",
       "      <td>2010</td>\n",
       "      <td>12</td>\n",
       "      <td>1</td>\n",
       "      <td>8</td>\n",
       "      <td>2010-12-01</td>\n",
       "      <td>2</td>\n",
       "      <td>0</td>\n",
       "    </tr>\n",
       "  </tbody>\n",
       "</table>\n",
       "<p>5 rows × 52 columns</p>\n",
       "</div>"
      ],
      "text/plain": [
       "  InvoiceNo StockCode                          Description  Quantity  \\\n",
       "0    536365    85123A   WHITE HANGING HEART T-LIGHT HOLDER -0.016761   \n",
       "1    536365     71053                  WHITE METAL LANTERN -0.016761   \n",
       "2    536365    84406B       CREAM CUPID HEARTS COAT HANGER -0.007631   \n",
       "3    536365    84029G  KNITTED UNION FLAG HOT WATER BOTTLE -0.016761   \n",
       "4    536365    84029E       RED WOOLLY HOTTIE WHITE HEART. -0.016761   \n",
       "\n",
       "          InvoiceDate  UnitPrice CustomerID  Country_Austria  Country_Bahrain  \\\n",
       "0 2010-12-01 08:26:00  -0.021520    17850.0            False            False   \n",
       "1 2010-12-01 08:26:00  -0.012892    17850.0            False            False   \n",
       "2 2010-12-01 08:26:00  -0.019465    17850.0            False            False   \n",
       "3 2010-12-01 08:26:00  -0.012892    17850.0            False            False   \n",
       "4 2010-12-01 08:26:00  -0.012892    17850.0            False            False   \n",
       "\n",
       "   Country_Belgium  ...  Country_United Kingdom  Country_Unspecified  \\\n",
       "0            False  ...                    True                False   \n",
       "1            False  ...                    True                False   \n",
       "2            False  ...                    True                False   \n",
       "3            False  ...                    True                False   \n",
       "4            False  ...                    True                False   \n",
       "\n",
       "     Amount  Year  Month  Day  Hour        Date  InvoiceDayOfWeek  IsWeekend  \n",
       "0  0.000361  2010     12    1     8  2010-12-01                 2          0  \n",
       "1  0.000216  2010     12    1     8  2010-12-01                 2          0  \n",
       "2  0.000149  2010     12    1     8  2010-12-01                 2          0  \n",
       "3  0.000216  2010     12    1     8  2010-12-01                 2          0  \n",
       "4  0.000216  2010     12    1     8  2010-12-01                 2          0  \n",
       "\n",
       "[5 rows x 52 columns]"
      ]
     },
     "execution_count": 140,
     "metadata": {},
     "output_type": "execute_result"
    }
   ],
   "source": [
    "Online_Retail.head()"
   ]
  },
  {
   "cell_type": "code",
   "execution_count": null,
   "id": "2bdf44c2-b5f0-446a-a873-ee6c2b9b0348",
   "metadata": {},
   "outputs": [],
   "source": []
  },
  {
   "cell_type": "code",
   "execution_count": null,
   "id": "0fffce4a-7cb6-4908-984e-18717aeef261",
   "metadata": {},
   "outputs": [],
   "source": []
  },
  {
   "cell_type": "code",
   "execution_count": null,
   "id": "b6c004fc-1e73-432f-a818-89dd5cc75be8",
   "metadata": {},
   "outputs": [],
   "source": []
  }
 ],
 "metadata": {
  "kernelspec": {
   "display_name": "Python [conda env:base] *",
   "language": "python",
   "name": "conda-base-py"
  },
  "language_info": {
   "codemirror_mode": {
    "name": "ipython",
    "version": 3
   },
   "file_extension": ".py",
   "mimetype": "text/x-python",
   "name": "python",
   "nbconvert_exporter": "python",
   "pygments_lexer": "ipython3",
   "version": "3.12.7"
  }
 },
 "nbformat": 4,
 "nbformat_minor": 5
}
