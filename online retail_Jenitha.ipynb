{
 "cells": [
  {
   "cell_type": "markdown",
   "id": "aa317fe2-cd93-4ed9-b228-3d49e9486522",
   "metadata": {},
   "source": [
    "**Identify customer segments for online retail with the use of K-means clustering using Online_Retail dataset**"
   ]
  },
  {
   "cell_type": "code",
   "execution_count": 71,
   "id": "23e7620c-9cea-47fc-96db-e25fea4b440e",
   "metadata": {},
   "outputs": [],
   "source": [
    "# Supress unnecessary warnings\n",
    "\n",
    "import warnings\n",
    "warnings.filterwarnings('ignore')"
   ]
  },
  {
   "cell_type": "code",
   "execution_count": 73,
   "id": "c88f3858-8c12-4d64-98ce-b087455f33b6",
   "metadata": {},
   "outputs": [],
   "source": [
    "# Import the packages\n",
    "\n",
    "import numpy as np\n",
    "import pandas as pd\n",
    "import matplotlib.pyplot as plt\n",
    "import seaborn as sns\n",
    "from sklearn.preprocessing import StandardScaler\n",
    "from sklearn.cluster import KMeans\n",
    "from sklearn.metrics import silhouette_score\n"
   ]
  },
  {
   "cell_type": "markdown",
   "id": "bc2fb82a-91a7-4c9a-bc9b-f38c57b132ae",
   "metadata": {},
   "source": [
    "**Load the Data**"
   ]
  },
  {
   "cell_type": "code",
   "execution_count": 76,
   "id": "a10406cd-77e3-42e7-a66e-a7ca0d542794",
   "metadata": {},
   "outputs": [],
   "source": [
    "# Read the dataset\n",
    "\n",
    "Online_Retail = pd.read_excel(\"Online Retail.xlsx\")"
   ]
  },
  {
   "cell_type": "markdown",
   "id": "74a42ff9-9008-4f21-ab0e-b62cfbf397b7",
   "metadata": {},
   "source": [
    "**Understand the Data**"
   ]
  },
  {
   "cell_type": "code",
   "execution_count": 78,
   "id": "1fcd71ce-6b55-4a76-9adb-a7c3538efc7c",
   "metadata": {
    "scrolled": true
   },
   "outputs": [
    {
     "data": {
      "text/html": [
       "<div>\n",
       "<style scoped>\n",
       "    .dataframe tbody tr th:only-of-type {\n",
       "        vertical-align: middle;\n",
       "    }\n",
       "\n",
       "    .dataframe tbody tr th {\n",
       "        vertical-align: top;\n",
       "    }\n",
       "\n",
       "    .dataframe thead th {\n",
       "        text-align: right;\n",
       "    }\n",
       "</style>\n",
       "<table border=\"1\" class=\"dataframe\">\n",
       "  <thead>\n",
       "    <tr style=\"text-align: right;\">\n",
       "      <th></th>\n",
       "      <th>InvoiceNo</th>\n",
       "      <th>StockCode</th>\n",
       "      <th>Description</th>\n",
       "      <th>Quantity</th>\n",
       "      <th>InvoiceDate</th>\n",
       "      <th>UnitPrice</th>\n",
       "      <th>CustomerID</th>\n",
       "      <th>Country</th>\n",
       "    </tr>\n",
       "  </thead>\n",
       "  <tbody>\n",
       "    <tr>\n",
       "      <th>0</th>\n",
       "      <td>536365</td>\n",
       "      <td>85123A</td>\n",
       "      <td>WHITE HANGING HEART T-LIGHT HOLDER</td>\n",
       "      <td>6</td>\n",
       "      <td>2010-12-01 08:26:00</td>\n",
       "      <td>2.55</td>\n",
       "      <td>17850.0</td>\n",
       "      <td>United Kingdom</td>\n",
       "    </tr>\n",
       "    <tr>\n",
       "      <th>1</th>\n",
       "      <td>536365</td>\n",
       "      <td>71053</td>\n",
       "      <td>WHITE METAL LANTERN</td>\n",
       "      <td>6</td>\n",
       "      <td>2010-12-01 08:26:00</td>\n",
       "      <td>3.39</td>\n",
       "      <td>17850.0</td>\n",
       "      <td>United Kingdom</td>\n",
       "    </tr>\n",
       "    <tr>\n",
       "      <th>2</th>\n",
       "      <td>536365</td>\n",
       "      <td>84406B</td>\n",
       "      <td>CREAM CUPID HEARTS COAT HANGER</td>\n",
       "      <td>8</td>\n",
       "      <td>2010-12-01 08:26:00</td>\n",
       "      <td>2.75</td>\n",
       "      <td>17850.0</td>\n",
       "      <td>United Kingdom</td>\n",
       "    </tr>\n",
       "    <tr>\n",
       "      <th>3</th>\n",
       "      <td>536365</td>\n",
       "      <td>84029G</td>\n",
       "      <td>KNITTED UNION FLAG HOT WATER BOTTLE</td>\n",
       "      <td>6</td>\n",
       "      <td>2010-12-01 08:26:00</td>\n",
       "      <td>3.39</td>\n",
       "      <td>17850.0</td>\n",
       "      <td>United Kingdom</td>\n",
       "    </tr>\n",
       "    <tr>\n",
       "      <th>4</th>\n",
       "      <td>536365</td>\n",
       "      <td>84029E</td>\n",
       "      <td>RED WOOLLY HOTTIE WHITE HEART.</td>\n",
       "      <td>6</td>\n",
       "      <td>2010-12-01 08:26:00</td>\n",
       "      <td>3.39</td>\n",
       "      <td>17850.0</td>\n",
       "      <td>United Kingdom</td>\n",
       "    </tr>\n",
       "  </tbody>\n",
       "</table>\n",
       "</div>"
      ],
      "text/plain": [
       "  InvoiceNo StockCode                          Description  Quantity  \\\n",
       "0    536365    85123A   WHITE HANGING HEART T-LIGHT HOLDER         6   \n",
       "1    536365     71053                  WHITE METAL LANTERN         6   \n",
       "2    536365    84406B       CREAM CUPID HEARTS COAT HANGER         8   \n",
       "3    536365    84029G  KNITTED UNION FLAG HOT WATER BOTTLE         6   \n",
       "4    536365    84029E       RED WOOLLY HOTTIE WHITE HEART.         6   \n",
       "\n",
       "          InvoiceDate  UnitPrice  CustomerID         Country  \n",
       "0 2010-12-01 08:26:00       2.55     17850.0  United Kingdom  \n",
       "1 2010-12-01 08:26:00       3.39     17850.0  United Kingdom  \n",
       "2 2010-12-01 08:26:00       2.75     17850.0  United Kingdom  \n",
       "3 2010-12-01 08:26:00       3.39     17850.0  United Kingdom  \n",
       "4 2010-12-01 08:26:00       3.39     17850.0  United Kingdom  "
      ]
     },
     "execution_count": 78,
     "metadata": {},
     "output_type": "execute_result"
    }
   ],
   "source": [
    "# Display the top 5 rows\n",
    "\n",
    "Online_Retail.head()"
   ]
  },
  {
   "cell_type": "code",
   "execution_count": 87,
   "id": "1ea778d0-874d-4c0e-8da0-d28d1a4fcb73",
   "metadata": {},
   "outputs": [
    {
     "data": {
      "text/plain": [
       "(541909, 8)"
      ]
     },
     "execution_count": 87,
     "metadata": {},
     "output_type": "execute_result"
    }
   ],
   "source": [
    "# Inspect the shape of the dataset\n",
    "\n",
    "Online_Retail.shape"
   ]
  },
  {
   "cell_type": "code",
   "execution_count": 89,
   "id": "69058eda-b555-4fc1-b55d-fabd383cfc9f",
   "metadata": {},
   "outputs": [
    {
     "data": {
      "text/plain": [
       "Index(['InvoiceNo', 'StockCode', 'Description', 'Quantity', 'InvoiceDate',\n",
       "       'UnitPrice', 'CustomerID', 'Country'],\n",
       "      dtype='object')"
      ]
     },
     "execution_count": 89,
     "metadata": {},
     "output_type": "execute_result"
    }
   ],
   "source": [
    "# Inspect the different columsn in the dataset\n",
    "\n",
    "Online_Retail.columns"
   ]
  },
  {
   "cell_type": "code",
   "execution_count": 91,
   "id": "be229a38-73df-4379-8e0e-f26a055884ad",
   "metadata": {},
   "outputs": [
    {
     "name": "stdout",
     "output_type": "stream",
     "text": [
      "<class 'pandas.core.frame.DataFrame'>\n",
      "RangeIndex: 541909 entries, 0 to 541908\n",
      "Data columns (total 8 columns):\n",
      " #   Column       Non-Null Count   Dtype         \n",
      "---  ------       --------------   -----         \n",
      " 0   InvoiceNo    541909 non-null  object        \n",
      " 1   StockCode    541909 non-null  object        \n",
      " 2   Description  540455 non-null  object        \n",
      " 3   Quantity     541909 non-null  int64         \n",
      " 4   InvoiceDate  541909 non-null  datetime64[ns]\n",
      " 5   UnitPrice    541909 non-null  float64       \n",
      " 6   CustomerID   406829 non-null  float64       \n",
      " 7   Country      541909 non-null  object        \n",
      "dtypes: datetime64[ns](1), float64(2), int64(1), object(4)\n",
      "memory usage: 33.1+ MB\n"
     ]
    }
   ],
   "source": [
    "# Check the info to see the types of the feature variables and the null values present\n",
    "\n",
    "Online_Retail.info()"
   ]
  },
  {
   "cell_type": "code",
   "execution_count": 93,
   "id": "440c9177-6a76-4f8a-a2cd-03074eb1949c",
   "metadata": {},
   "outputs": [
    {
     "data": {
      "text/html": [
       "<div>\n",
       "<style scoped>\n",
       "    .dataframe tbody tr th:only-of-type {\n",
       "        vertical-align: middle;\n",
       "    }\n",
       "\n",
       "    .dataframe tbody tr th {\n",
       "        vertical-align: top;\n",
       "    }\n",
       "\n",
       "    .dataframe thead th {\n",
       "        text-align: right;\n",
       "    }\n",
       "</style>\n",
       "<table border=\"1\" class=\"dataframe\">\n",
       "  <thead>\n",
       "    <tr style=\"text-align: right;\">\n",
       "      <th></th>\n",
       "      <th>Quantity</th>\n",
       "      <th>InvoiceDate</th>\n",
       "      <th>UnitPrice</th>\n",
       "      <th>CustomerID</th>\n",
       "    </tr>\n",
       "  </thead>\n",
       "  <tbody>\n",
       "    <tr>\n",
       "      <th>count</th>\n",
       "      <td>541909.000000</td>\n",
       "      <td>541909</td>\n",
       "      <td>541909.000000</td>\n",
       "      <td>406829.000000</td>\n",
       "    </tr>\n",
       "    <tr>\n",
       "      <th>mean</th>\n",
       "      <td>9.552250</td>\n",
       "      <td>2011-07-04 13:34:57.156386048</td>\n",
       "      <td>4.611114</td>\n",
       "      <td>15287.690570</td>\n",
       "    </tr>\n",
       "    <tr>\n",
       "      <th>min</th>\n",
       "      <td>-80995.000000</td>\n",
       "      <td>2010-12-01 08:26:00</td>\n",
       "      <td>-11062.060000</td>\n",
       "      <td>12346.000000</td>\n",
       "    </tr>\n",
       "    <tr>\n",
       "      <th>25%</th>\n",
       "      <td>1.000000</td>\n",
       "      <td>2011-03-28 11:34:00</td>\n",
       "      <td>1.250000</td>\n",
       "      <td>13953.000000</td>\n",
       "    </tr>\n",
       "    <tr>\n",
       "      <th>50%</th>\n",
       "      <td>3.000000</td>\n",
       "      <td>2011-07-19 17:17:00</td>\n",
       "      <td>2.080000</td>\n",
       "      <td>15152.000000</td>\n",
       "    </tr>\n",
       "    <tr>\n",
       "      <th>75%</th>\n",
       "      <td>10.000000</td>\n",
       "      <td>2011-10-19 11:27:00</td>\n",
       "      <td>4.130000</td>\n",
       "      <td>16791.000000</td>\n",
       "    </tr>\n",
       "    <tr>\n",
       "      <th>max</th>\n",
       "      <td>80995.000000</td>\n",
       "      <td>2011-12-09 12:50:00</td>\n",
       "      <td>38970.000000</td>\n",
       "      <td>18287.000000</td>\n",
       "    </tr>\n",
       "    <tr>\n",
       "      <th>std</th>\n",
       "      <td>218.081158</td>\n",
       "      <td>NaN</td>\n",
       "      <td>96.759853</td>\n",
       "      <td>1713.600303</td>\n",
       "    </tr>\n",
       "  </tbody>\n",
       "</table>\n",
       "</div>"
      ],
      "text/plain": [
       "            Quantity                    InvoiceDate      UnitPrice  \\\n",
       "count  541909.000000                         541909  541909.000000   \n",
       "mean        9.552250  2011-07-04 13:34:57.156386048       4.611114   \n",
       "min    -80995.000000            2010-12-01 08:26:00  -11062.060000   \n",
       "25%         1.000000            2011-03-28 11:34:00       1.250000   \n",
       "50%         3.000000            2011-07-19 17:17:00       2.080000   \n",
       "75%        10.000000            2011-10-19 11:27:00       4.130000   \n",
       "max     80995.000000            2011-12-09 12:50:00   38970.000000   \n",
       "std       218.081158                            NaN      96.759853   \n",
       "\n",
       "          CustomerID  \n",
       "count  406829.000000  \n",
       "mean    15287.690570  \n",
       "min     12346.000000  \n",
       "25%     13953.000000  \n",
       "50%     15152.000000  \n",
       "75%     16791.000000  \n",
       "max     18287.000000  \n",
       "std      1713.600303  "
      ]
     },
     "execution_count": 93,
     "metadata": {},
     "output_type": "execute_result"
    }
   ],
   "source": [
    "Online_Retail.describe()"
   ]
  },
  {
   "cell_type": "code",
   "execution_count": 95,
   "id": "d71d1d6f-7c12-4855-a642-01f4b262f56a",
   "metadata": {},
   "outputs": [
    {
     "data": {
      "text/plain": [
       "InvoiceNo           0\n",
       "StockCode           0\n",
       "Description      1454\n",
       "Quantity            0\n",
       "InvoiceDate         0\n",
       "UnitPrice           0\n",
       "CustomerID     135080\n",
       "Country             0\n",
       "dtype: int64"
      ]
     },
     "execution_count": 95,
     "metadata": {},
     "output_type": "execute_result"
    }
   ],
   "source": [
    "# Check the number of missing values in each column\n",
    "\n",
    "Online_Retail.isnull().sum()"
   ]
  },
  {
   "cell_type": "code",
   "execution_count": 97,
   "id": "c0a1ecfe-3478-49f2-8d30-67e91a5e1866",
   "metadata": {},
   "outputs": [
    {
     "data": {
      "text/plain": [
       "CustomerID     24.926694\n",
       "Description     0.268311\n",
       "InvoiceNo       0.000000\n",
       "StockCode       0.000000\n",
       "Quantity        0.000000\n",
       "InvoiceDate     0.000000\n",
       "UnitPrice       0.000000\n",
       "Country         0.000000\n",
       "dtype: float64"
      ]
     },
     "execution_count": 97,
     "metadata": {},
     "output_type": "execute_result"
    }
   ],
   "source": [
    "# Calculate the proportion of non-missing values for each column\n",
    "Online_Retail_missing = Online_Retail.count() / len(Online_Retail)\n",
    "\n",
    "# Convert the proportions to percentages and calculate the percentage of missing values for each column\n",
    "Online_Retail_missing = (1 - Online_Retail_missing) * 100\n",
    "\n",
    "# Sort the missing percentages in descending order \n",
    "Online_Retail_missing.sort_values(ascending=False)"
   ]
  },
  {
   "cell_type": "markdown",
   "id": "95eb4cf3-d86c-4979-9a2b-68cbd917051b",
   "metadata": {},
   "source": [
    "**Clean the Data**"
   ]
  },
  {
   "cell_type": "code",
   "execution_count": 100,
   "id": "d3434158-5c16-4940-97ce-df703c73a6e6",
   "metadata": {},
   "outputs": [],
   "source": [
    "# Description percentage is very less hence removed\n",
    "Online_Retail.dropna(subset=['Description'], inplace=True)"
   ]
  },
  {
   "cell_type": "code",
   "execution_count": 102,
   "id": "4ca9fc60-a08d-4b43-93d9-1b4e5eb8685c",
   "metadata": {},
   "outputs": [
    {
     "data": {
      "text/plain": [
       "InvoiceNo           0\n",
       "StockCode           0\n",
       "Description         0\n",
       "Quantity            0\n",
       "InvoiceDate         0\n",
       "UnitPrice           0\n",
       "CustomerID     133626\n",
       "Country             0\n",
       "dtype: int64"
      ]
     },
     "execution_count": 102,
     "metadata": {},
     "output_type": "execute_result"
    }
   ],
   "source": [
    "# Check the number of null values again\n",
    "Online_Retail.isnull().sum()"
   ]
  },
  {
   "cell_type": "code",
   "execution_count": 104,
   "id": "42b5e0ba-ca88-458c-9bee-3aa1e3483897",
   "metadata": {},
   "outputs": [],
   "source": [
    "#Fill missing values with 0. 0 is consider as unknown customer\n",
    "Online_Retail['CustomerID'].fillna(0, inplace=True)"
   ]
  },
  {
   "cell_type": "code",
   "execution_count": 106,
   "id": "5d5a3b73-992f-439d-911a-dab0b5cb1f4d",
   "metadata": {},
   "outputs": [
    {
     "data": {
      "text/plain": [
       "InvoiceNo      0\n",
       "StockCode      0\n",
       "Description    0\n",
       "Quantity       0\n",
       "InvoiceDate    0\n",
       "UnitPrice      0\n",
       "CustomerID     0\n",
       "Country        0\n",
       "dtype: int64"
      ]
     },
     "execution_count": 106,
     "metadata": {},
     "output_type": "execute_result"
    }
   ],
   "source": [
    "# Check the number of null values again\n",
    "Online_Retail.isnull().sum()"
   ]
  },
  {
   "cell_type": "code",
   "execution_count": 108,
   "id": "e400be5e-af50-453b-85ff-0fddbfd9f43c",
   "metadata": {},
   "outputs": [
    {
     "data": {
      "text/plain": [
       "5268"
      ]
     },
     "execution_count": 108,
     "metadata": {},
     "output_type": "execute_result"
    }
   ],
   "source": [
    "Online_Retail.duplicated().sum()"
   ]
  },
  {
   "cell_type": "code",
   "execution_count": 110,
   "id": "46a224e4-caeb-4fa9-881d-5d295286f803",
   "metadata": {},
   "outputs": [],
   "source": [
    "#Check for duplicates and drop duplicates.\n",
    "\n",
    "Online_Retail = Online_Retail.drop_duplicates()"
   ]
  },
  {
   "cell_type": "code",
   "execution_count": 112,
   "id": "50ff92e0-524d-466f-86be-a28af8b337a6",
   "metadata": {},
   "outputs": [
    {
     "data": {
      "text/plain": [
       "0"
      ]
     },
     "execution_count": 112,
     "metadata": {},
     "output_type": "execute_result"
    }
   ],
   "source": [
    "Online_Retail.duplicated().sum()\n"
   ]
  },
  {
   "cell_type": "code",
   "execution_count": 113,
   "id": "21b083b5-1b35-4cb4-a0ba-8c687da6adbb",
   "metadata": {},
   "outputs": [
    {
     "name": "stdout",
     "output_type": "stream",
     "text": [
      "<class 'pandas.core.frame.DataFrame'>\n",
      "Index: 535187 entries, 0 to 541908\n",
      "Data columns (total 8 columns):\n",
      " #   Column       Non-Null Count   Dtype         \n",
      "---  ------       --------------   -----         \n",
      " 0   InvoiceNo    535187 non-null  object        \n",
      " 1   StockCode    535187 non-null  object        \n",
      " 2   Description  535187 non-null  object        \n",
      " 3   Quantity     535187 non-null  int64         \n",
      " 4   InvoiceDate  535187 non-null  datetime64[ns]\n",
      " 5   UnitPrice    535187 non-null  float64       \n",
      " 6   CustomerID   535187 non-null  float64       \n",
      " 7   Country      535187 non-null  object        \n",
      "dtypes: datetime64[ns](1), float64(2), int64(1), object(4)\n",
      "memory usage: 36.7+ MB\n"
     ]
    }
   ],
   "source": [
    "\n",
    "Online_Retail.info()"
   ]
  },
  {
   "cell_type": "code",
   "execution_count": 116,
   "id": "c7567dc1-b4f0-401d-8f5d-1e0a8501aa8d",
   "metadata": {},
   "outputs": [],
   "source": [
    "# Handle negative quantities and prices\n",
    "\n",
    "Online_Retail = Online_Retail[Online_Retail['Quantity'] > 0]\n",
    "Online_Retail = Online_Retail[Online_Retail['UnitPrice'] > 0]"
   ]
  },
  {
   "cell_type": "code",
   "execution_count": 118,
   "id": "06e33240-b530-4f52-b4e4-d6d80e0583c8",
   "metadata": {},
   "outputs": [
    {
     "name": "stdout",
     "output_type": "stream",
     "text": [
      "<class 'pandas.core.frame.DataFrame'>\n",
      "Index: 524878 entries, 0 to 541908\n",
      "Data columns (total 8 columns):\n",
      " #   Column       Non-Null Count   Dtype         \n",
      "---  ------       --------------   -----         \n",
      " 0   InvoiceNo    524878 non-null  object        \n",
      " 1   StockCode    524878 non-null  object        \n",
      " 2   Description  524878 non-null  object        \n",
      " 3   Quantity     524878 non-null  int64         \n",
      " 4   InvoiceDate  524878 non-null  datetime64[ns]\n",
      " 5   UnitPrice    524878 non-null  float64       \n",
      " 6   CustomerID   524878 non-null  float64       \n",
      " 7   Country      524878 non-null  object        \n",
      "dtypes: datetime64[ns](1), float64(2), int64(1), object(4)\n",
      "memory usage: 36.0+ MB\n"
     ]
    }
   ],
   "source": [
    "Online_Retail.info()"
   ]
  },
  {
   "cell_type": "code",
   "execution_count": 120,
   "id": "af4bd7f2-edd7-4e91-b51b-cfec7bb3787c",
   "metadata": {},
   "outputs": [
    {
     "data": {
      "text/html": [
       "<div>\n",
       "<style scoped>\n",
       "    .dataframe tbody tr th:only-of-type {\n",
       "        vertical-align: middle;\n",
       "    }\n",
       "\n",
       "    .dataframe tbody tr th {\n",
       "        vertical-align: top;\n",
       "    }\n",
       "\n",
       "    .dataframe thead th {\n",
       "        text-align: right;\n",
       "    }\n",
       "</style>\n",
       "<table border=\"1\" class=\"dataframe\">\n",
       "  <thead>\n",
       "    <tr style=\"text-align: right;\">\n",
       "      <th></th>\n",
       "      <th>InvoiceNo</th>\n",
       "      <th>StockCode</th>\n",
       "      <th>Description</th>\n",
       "      <th>Quantity</th>\n",
       "      <th>InvoiceDate</th>\n",
       "      <th>UnitPrice</th>\n",
       "      <th>CustomerID</th>\n",
       "      <th>Country</th>\n",
       "    </tr>\n",
       "  </thead>\n",
       "  <tbody>\n",
       "    <tr>\n",
       "      <th>0</th>\n",
       "      <td>536365</td>\n",
       "      <td>85123A</td>\n",
       "      <td>WHITE HANGING HEART T-LIGHT HOLDER</td>\n",
       "      <td>6</td>\n",
       "      <td>2010-12-01 08:26:00</td>\n",
       "      <td>2.55</td>\n",
       "      <td>17850.0</td>\n",
       "      <td>United Kingdom</td>\n",
       "    </tr>\n",
       "    <tr>\n",
       "      <th>1</th>\n",
       "      <td>536365</td>\n",
       "      <td>71053</td>\n",
       "      <td>WHITE METAL LANTERN</td>\n",
       "      <td>6</td>\n",
       "      <td>2010-12-01 08:26:00</td>\n",
       "      <td>3.39</td>\n",
       "      <td>17850.0</td>\n",
       "      <td>United Kingdom</td>\n",
       "    </tr>\n",
       "    <tr>\n",
       "      <th>2</th>\n",
       "      <td>536365</td>\n",
       "      <td>84406B</td>\n",
       "      <td>CREAM CUPID HEARTS COAT HANGER</td>\n",
       "      <td>8</td>\n",
       "      <td>2010-12-01 08:26:00</td>\n",
       "      <td>2.75</td>\n",
       "      <td>17850.0</td>\n",
       "      <td>United Kingdom</td>\n",
       "    </tr>\n",
       "    <tr>\n",
       "      <th>3</th>\n",
       "      <td>536365</td>\n",
       "      <td>84029G</td>\n",
       "      <td>KNITTED UNION FLAG HOT WATER BOTTLE</td>\n",
       "      <td>6</td>\n",
       "      <td>2010-12-01 08:26:00</td>\n",
       "      <td>3.39</td>\n",
       "      <td>17850.0</td>\n",
       "      <td>United Kingdom</td>\n",
       "    </tr>\n",
       "    <tr>\n",
       "      <th>4</th>\n",
       "      <td>536365</td>\n",
       "      <td>84029E</td>\n",
       "      <td>RED WOOLLY HOTTIE WHITE HEART.</td>\n",
       "      <td>6</td>\n",
       "      <td>2010-12-01 08:26:00</td>\n",
       "      <td>3.39</td>\n",
       "      <td>17850.0</td>\n",
       "      <td>United Kingdom</td>\n",
       "    </tr>\n",
       "  </tbody>\n",
       "</table>\n",
       "</div>"
      ],
      "text/plain": [
       "  InvoiceNo StockCode                          Description  Quantity  \\\n",
       "0    536365    85123A   WHITE HANGING HEART T-LIGHT HOLDER         6   \n",
       "1    536365     71053                  WHITE METAL LANTERN         6   \n",
       "2    536365    84406B       CREAM CUPID HEARTS COAT HANGER         8   \n",
       "3    536365    84029G  KNITTED UNION FLAG HOT WATER BOTTLE         6   \n",
       "4    536365    84029E       RED WOOLLY HOTTIE WHITE HEART.         6   \n",
       "\n",
       "          InvoiceDate  UnitPrice  CustomerID         Country  \n",
       "0 2010-12-01 08:26:00       2.55     17850.0  United Kingdom  \n",
       "1 2010-12-01 08:26:00       3.39     17850.0  United Kingdom  \n",
       "2 2010-12-01 08:26:00       2.75     17850.0  United Kingdom  \n",
       "3 2010-12-01 08:26:00       3.39     17850.0  United Kingdom  \n",
       "4 2010-12-01 08:26:00       3.39     17850.0  United Kingdom  "
      ]
     },
     "execution_count": 120,
     "metadata": {},
     "output_type": "execute_result"
    }
   ],
   "source": [
    "Online_Retail.head()"
   ]
  },
  {
   "cell_type": "markdown",
   "id": "d25fa161-27a6-4d03-9945-f5fbf395d406",
   "metadata": {},
   "source": [
    "**Feature Engineering**"
   ]
  },
  {
   "cell_type": "code",
   "execution_count": 123,
   "id": "d4c32a52-09fd-4667-9a84-7b7206b196f9",
   "metadata": {},
   "outputs": [],
   "source": [
    "# Create amount column\n",
    "Online_Retail['Amount'] = Online_Retail['UnitPrice'] * Online_Retail['Quantity']"
   ]
  },
  {
   "cell_type": "code",
   "execution_count": 125,
   "id": "4cf70ac0-8d11-4e9e-836e-de8c9286e9b0",
   "metadata": {},
   "outputs": [],
   "source": [
    "Online_Retail['Year'] = Online_Retail['InvoiceDate'].dt.year\n",
    "Online_Retail['Month'] = Online_Retail['InvoiceDate'].dt.month\n",
    "Online_Retail['Day'] = Online_Retail['InvoiceDate'].dt.day\n",
    "Online_Retail['Hour'] = Online_Retail['InvoiceDate'].dt.hour\n",
    "Online_Retail['Date'] = Online_Retail['InvoiceDate'].dt.date\n"
   ]
  },
  {
   "cell_type": "code",
   "execution_count": 127,
   "id": "1caca977-43ae-4580-bd9f-c68bb08f0d86",
   "metadata": {},
   "outputs": [],
   "source": [
    "Online_Retail['InvoiceDayOfWeek'] = Online_Retail['InvoiceDate'].dt.dayofweek\n",
    "Online_Retail['IsWeekend'] = (Online_Retail['InvoiceDayOfWeek'] >= 5).astype(int)\n"
   ]
  },
  {
   "cell_type": "code",
   "execution_count": 129,
   "id": "710daa9a-a012-4c00-ad9f-fb38e033b463",
   "metadata": {},
   "outputs": [
    {
     "data": {
      "text/html": [
       "<div>\n",
       "<style scoped>\n",
       "    .dataframe tbody tr th:only-of-type {\n",
       "        vertical-align: middle;\n",
       "    }\n",
       "\n",
       "    .dataframe tbody tr th {\n",
       "        vertical-align: top;\n",
       "    }\n",
       "\n",
       "    .dataframe thead th {\n",
       "        text-align: right;\n",
       "    }\n",
       "</style>\n",
       "<table border=\"1\" class=\"dataframe\">\n",
       "  <thead>\n",
       "    <tr style=\"text-align: right;\">\n",
       "      <th></th>\n",
       "      <th>InvoiceNo</th>\n",
       "      <th>StockCode</th>\n",
       "      <th>Description</th>\n",
       "      <th>Quantity</th>\n",
       "      <th>InvoiceDate</th>\n",
       "      <th>UnitPrice</th>\n",
       "      <th>CustomerID</th>\n",
       "      <th>Country</th>\n",
       "      <th>Amount</th>\n",
       "      <th>Year</th>\n",
       "      <th>Month</th>\n",
       "      <th>Day</th>\n",
       "      <th>Hour</th>\n",
       "      <th>Date</th>\n",
       "      <th>InvoiceDayOfWeek</th>\n",
       "      <th>IsWeekend</th>\n",
       "    </tr>\n",
       "  </thead>\n",
       "  <tbody>\n",
       "    <tr>\n",
       "      <th>0</th>\n",
       "      <td>536365</td>\n",
       "      <td>85123A</td>\n",
       "      <td>WHITE HANGING HEART T-LIGHT HOLDER</td>\n",
       "      <td>6</td>\n",
       "      <td>2010-12-01 08:26:00</td>\n",
       "      <td>2.55</td>\n",
       "      <td>17850.0</td>\n",
       "      <td>United Kingdom</td>\n",
       "      <td>15.30</td>\n",
       "      <td>2010</td>\n",
       "      <td>12</td>\n",
       "      <td>1</td>\n",
       "      <td>8</td>\n",
       "      <td>2010-12-01</td>\n",
       "      <td>2</td>\n",
       "      <td>0</td>\n",
       "    </tr>\n",
       "    <tr>\n",
       "      <th>1</th>\n",
       "      <td>536365</td>\n",
       "      <td>71053</td>\n",
       "      <td>WHITE METAL LANTERN</td>\n",
       "      <td>6</td>\n",
       "      <td>2010-12-01 08:26:00</td>\n",
       "      <td>3.39</td>\n",
       "      <td>17850.0</td>\n",
       "      <td>United Kingdom</td>\n",
       "      <td>20.34</td>\n",
       "      <td>2010</td>\n",
       "      <td>12</td>\n",
       "      <td>1</td>\n",
       "      <td>8</td>\n",
       "      <td>2010-12-01</td>\n",
       "      <td>2</td>\n",
       "      <td>0</td>\n",
       "    </tr>\n",
       "    <tr>\n",
       "      <th>2</th>\n",
       "      <td>536365</td>\n",
       "      <td>84406B</td>\n",
       "      <td>CREAM CUPID HEARTS COAT HANGER</td>\n",
       "      <td>8</td>\n",
       "      <td>2010-12-01 08:26:00</td>\n",
       "      <td>2.75</td>\n",
       "      <td>17850.0</td>\n",
       "      <td>United Kingdom</td>\n",
       "      <td>22.00</td>\n",
       "      <td>2010</td>\n",
       "      <td>12</td>\n",
       "      <td>1</td>\n",
       "      <td>8</td>\n",
       "      <td>2010-12-01</td>\n",
       "      <td>2</td>\n",
       "      <td>0</td>\n",
       "    </tr>\n",
       "    <tr>\n",
       "      <th>3</th>\n",
       "      <td>536365</td>\n",
       "      <td>84029G</td>\n",
       "      <td>KNITTED UNION FLAG HOT WATER BOTTLE</td>\n",
       "      <td>6</td>\n",
       "      <td>2010-12-01 08:26:00</td>\n",
       "      <td>3.39</td>\n",
       "      <td>17850.0</td>\n",
       "      <td>United Kingdom</td>\n",
       "      <td>20.34</td>\n",
       "      <td>2010</td>\n",
       "      <td>12</td>\n",
       "      <td>1</td>\n",
       "      <td>8</td>\n",
       "      <td>2010-12-01</td>\n",
       "      <td>2</td>\n",
       "      <td>0</td>\n",
       "    </tr>\n",
       "    <tr>\n",
       "      <th>4</th>\n",
       "      <td>536365</td>\n",
       "      <td>84029E</td>\n",
       "      <td>RED WOOLLY HOTTIE WHITE HEART.</td>\n",
       "      <td>6</td>\n",
       "      <td>2010-12-01 08:26:00</td>\n",
       "      <td>3.39</td>\n",
       "      <td>17850.0</td>\n",
       "      <td>United Kingdom</td>\n",
       "      <td>20.34</td>\n",
       "      <td>2010</td>\n",
       "      <td>12</td>\n",
       "      <td>1</td>\n",
       "      <td>8</td>\n",
       "      <td>2010-12-01</td>\n",
       "      <td>2</td>\n",
       "      <td>0</td>\n",
       "    </tr>\n",
       "  </tbody>\n",
       "</table>\n",
       "</div>"
      ],
      "text/plain": [
       "  InvoiceNo StockCode                          Description  Quantity  \\\n",
       "0    536365    85123A   WHITE HANGING HEART T-LIGHT HOLDER         6   \n",
       "1    536365     71053                  WHITE METAL LANTERN         6   \n",
       "2    536365    84406B       CREAM CUPID HEARTS COAT HANGER         8   \n",
       "3    536365    84029G  KNITTED UNION FLAG HOT WATER BOTTLE         6   \n",
       "4    536365    84029E       RED WOOLLY HOTTIE WHITE HEART.         6   \n",
       "\n",
       "          InvoiceDate  UnitPrice  CustomerID         Country  Amount  Year  \\\n",
       "0 2010-12-01 08:26:00       2.55     17850.0  United Kingdom   15.30  2010   \n",
       "1 2010-12-01 08:26:00       3.39     17850.0  United Kingdom   20.34  2010   \n",
       "2 2010-12-01 08:26:00       2.75     17850.0  United Kingdom   22.00  2010   \n",
       "3 2010-12-01 08:26:00       3.39     17850.0  United Kingdom   20.34  2010   \n",
       "4 2010-12-01 08:26:00       3.39     17850.0  United Kingdom   20.34  2010   \n",
       "\n",
       "   Month  Day  Hour        Date  InvoiceDayOfWeek  IsWeekend  \n",
       "0     12    1     8  2010-12-01                 2          0  \n",
       "1     12    1     8  2010-12-01                 2          0  \n",
       "2     12    1     8  2010-12-01                 2          0  \n",
       "3     12    1     8  2010-12-01                 2          0  \n",
       "4     12    1     8  2010-12-01                 2          0  "
      ]
     },
     "execution_count": 129,
     "metadata": {},
     "output_type": "execute_result"
    }
   ],
   "source": [
    "Online_Retail.head()"
   ]
  },
  {
   "cell_type": "code",
   "execution_count": 131,
   "id": "2415b242-ee60-4382-8bb7-54ea3a9dd099",
   "metadata": {},
   "outputs": [
    {
     "data": {
      "text/plain": [
       "Country\n",
       "United Kingdom          479985\n",
       "Germany                   9025\n",
       "France                    8392\n",
       "EIRE                      7879\n",
       "Spain                     2479\n",
       "Netherlands               2359\n",
       "Belgium                   2031\n",
       "Switzerland               1958\n",
       "Portugal                  1492\n",
       "Australia                 1181\n",
       "Norway                    1071\n",
       "Italy                      758\n",
       "Channel Islands            747\n",
       "Finland                    685\n",
       "Cyprus                     603\n",
       "Sweden                     450\n",
       "Unspecified                442\n",
       "Austria                    398\n",
       "Denmark                    380\n",
       "Poland                     330\n",
       "Japan                      321\n",
       "Israel                     292\n",
       "Hong Kong                  280\n",
       "Singapore                  222\n",
       "Iceland                    182\n",
       "USA                        179\n",
       "Canada                     151\n",
       "Greece                     145\n",
       "Malta                      112\n",
       "United Arab Emirates        68\n",
       "European Community          60\n",
       "RSA                         57\n",
       "Lebanon                     45\n",
       "Lithuania                   35\n",
       "Brazil                      32\n",
       "Czech Republic              25\n",
       "Bahrain                     18\n",
       "Saudi Arabia                 9\n",
       "Name: count, dtype: int64"
      ]
     },
     "execution_count": 131,
     "metadata": {},
     "output_type": "execute_result"
    }
   ],
   "source": [
    "Online_Retail['Country'].astype('category').value_counts()"
   ]
  },
  {
   "cell_type": "code",
   "execution_count": 133,
   "id": "55d500d3-16a4-4973-84c8-92d1d381fb88",
   "metadata": {},
   "outputs": [
    {
     "data": {
      "text/plain": [
       "StockCode\n",
       "85123A    2253\n",
       "85099B    2109\n",
       "22423     2007\n",
       "47566     1699\n",
       "20725     1582\n",
       "          ... \n",
       "84705C       1\n",
       "90060B       1\n",
       "90112        1\n",
       "90181C       1\n",
       "m            1\n",
       "Name: count, Length: 3922, dtype: int64"
      ]
     },
     "execution_count": 133,
     "metadata": {},
     "output_type": "execute_result"
    }
   ],
   "source": [
    "Online_Retail['StockCode'].astype('category').value_counts()"
   ]
  },
  {
   "cell_type": "code",
   "execution_count": 135,
   "id": "4bf6dce8-bf24-4c44-952a-528baeb26a20",
   "metadata": {},
   "outputs": [
    {
     "data": {
      "text/plain": [
       "Description\n",
       "WHITE HANGING HEART T-LIGHT HOLDER    2311\n",
       "JUMBO BAG RED RETROSPOT               2109\n",
       "REGENCY CAKESTAND 3 TIER              2007\n",
       "PARTY BUNTING                         1699\n",
       "LUNCH BAG RED RETROSPOT               1581\n",
       "                                      ... \n",
       "BREAD BIN, DINER STYLE, IVORY            1\n",
       "LARGE BLACK DIAMANTE HAIRSLIDE           1\n",
       "BREAD BIN, DINER STYLE, MINT             1\n",
       "PURPLE CHUNKY GLASS+BEAD NECKLACE        1\n",
       "PAINTED HEART WREATH WITH BELL           1\n",
       "Name: count, Length: 4026, dtype: int64"
      ]
     },
     "execution_count": 135,
     "metadata": {},
     "output_type": "execute_result"
    }
   ],
   "source": [
    "Online_Retail['Description'].astype('category').value_counts()"
   ]
  },
  {
   "cell_type": "markdown",
   "id": "5bdc16c5-2d3d-4b94-b01f-9fc1ab4847eb",
   "metadata": {},
   "source": [
    "**Transform the Data**"
   ]
  },
  {
   "cell_type": "code",
   "execution_count": 138,
   "id": "e11f2a66-917a-4673-a754-7cf5b2917bee",
   "metadata": {},
   "outputs": [
    {
     "name": "stdout",
     "output_type": "stream",
     "text": [
      "Analysis date: 2011-12-10\n"
     ]
    }
   ],
   "source": [
    "# Set analysis date (day after last purchase)\n",
    "analysis_date = Online_Retail['InvoiceDate'].max() + pd.Timedelta(days=1)\n",
    "print(f\"Analysis date: {analysis_date.date()}\")"
   ]
  },
  {
   "cell_type": "code",
   "execution_count": 140,
   "id": "643f9bc8-b787-411a-b70d-61cb04fd315d",
   "metadata": {},
   "outputs": [
    {
     "name": "stdout",
     "output_type": "stream",
     "text": [
      " RFM calculated for 4339 customers\n",
      "\n",
      "RFM Statistics:\n",
      "        CustomerID      Recency    Frequency      Monetary\n",
      "count   4339.00000  4339.000000  4339.000000  4.339000e+03\n",
      "mean   15296.88177    92.515326     4.600138  2.452664e+03\n",
      "std     1737.20873   100.012295    22.943499  2.808606e+04\n",
      "min        0.00000     1.000000     1.000000  3.750000e+00\n",
      "25%    13812.50000    18.000000     1.000000  3.065050e+02\n",
      "50%    15299.00000    51.000000     2.000000  6.685800e+02\n",
      "75%    16778.50000   142.000000     5.000000  1.660890e+03\n",
      "max    18287.00000   374.000000  1428.000000  1.754902e+06\n"
     ]
    }
   ],
   "source": [
    "# Calculate RFM for each customer\n",
    "rfm = Online_Retail.groupby('CustomerID').agg({\n",
    "        'InvoiceDate': lambda x: (analysis_date - x.max()).days,  # Recency\n",
    "        'InvoiceNo': 'nunique',                                   # Frequency  \n",
    "        'Amount': 'sum'                                      # Monetary\n",
    "    }).reset_index()\n",
    "    \n",
    "# Rename columns\n",
    "rfm.columns = ['CustomerID', 'Recency', 'Frequency', 'Monetary']\n",
    "print(f\" RFM calculated for {len(rfm)} customers\")\n",
    "\n",
    "# Display RFM statistics\n",
    "print(\"\\nRFM Statistics:\")\n",
    "print(rfm.describe())"
   ]
  },
  {
   "cell_type": "markdown",
   "id": "41badc6c-4510-4ad8-934e-f183b6569cd9",
   "metadata": {},
   "source": [
    "**Encode Categorical Columns**"
   ]
  },
  {
   "cell_type": "code",
   "execution_count": 143,
   "id": "24c789e0-de2a-46ce-b2ab-d0d1271e5606",
   "metadata": {},
   "outputs": [],
   "source": [
    "#For text data create dummies\n",
    "# One-hot encoding\n",
    "Online_Retail = pd.get_dummies(Online_Retail, columns=['Country'], drop_first=True)\n"
   ]
  },
  {
   "cell_type": "code",
   "execution_count": 145,
   "id": "0e77a8f6-a5ca-402b-816e-e44c8a2a84b7",
   "metadata": {},
   "outputs": [],
   "source": [
    "# For numerical columns like price, sales, etc.:\n",
    "from sklearn.preprocessing import StandardScaler, MinMaxScaler\n",
    "scaler = StandardScaler()\n",
    "Online_Retail[['UnitPrice', 'Quantity']] = scaler.fit_transform(Online_Retail[['UnitPrice', 'Quantity']])"
   ]
  },
  {
   "cell_type": "code",
   "execution_count": 147,
   "id": "7a8752c2-06c9-4706-b18e-cb709b5eb28a",
   "metadata": {},
   "outputs": [
    {
     "data": {
      "text/html": [
       "<div>\n",
       "<style scoped>\n",
       "    .dataframe tbody tr th:only-of-type {\n",
       "        vertical-align: middle;\n",
       "    }\n",
       "\n",
       "    .dataframe tbody tr th {\n",
       "        vertical-align: top;\n",
       "    }\n",
       "\n",
       "    .dataframe thead th {\n",
       "        text-align: right;\n",
       "    }\n",
       "</style>\n",
       "<table border=\"1\" class=\"dataframe\">\n",
       "  <thead>\n",
       "    <tr style=\"text-align: right;\">\n",
       "      <th></th>\n",
       "      <th>InvoiceNo</th>\n",
       "      <th>StockCode</th>\n",
       "      <th>Description</th>\n",
       "      <th>Quantity</th>\n",
       "      <th>InvoiceDate</th>\n",
       "      <th>UnitPrice</th>\n",
       "      <th>CustomerID</th>\n",
       "      <th>Amount</th>\n",
       "      <th>Year</th>\n",
       "      <th>Month</th>\n",
       "      <th>...</th>\n",
       "      <th>Country_RSA</th>\n",
       "      <th>Country_Saudi Arabia</th>\n",
       "      <th>Country_Singapore</th>\n",
       "      <th>Country_Spain</th>\n",
       "      <th>Country_Sweden</th>\n",
       "      <th>Country_Switzerland</th>\n",
       "      <th>Country_USA</th>\n",
       "      <th>Country_United Arab Emirates</th>\n",
       "      <th>Country_United Kingdom</th>\n",
       "      <th>Country_Unspecified</th>\n",
       "    </tr>\n",
       "  </thead>\n",
       "  <tbody>\n",
       "    <tr>\n",
       "      <th>0</th>\n",
       "      <td>536365</td>\n",
       "      <td>85123A</td>\n",
       "      <td>WHITE HANGING HEART T-LIGHT HOLDER</td>\n",
       "      <td>-0.029541</td>\n",
       "      <td>2010-12-01 08:26:00</td>\n",
       "      <td>-0.038029</td>\n",
       "      <td>17850.0</td>\n",
       "      <td>15.30</td>\n",
       "      <td>2010</td>\n",
       "      <td>12</td>\n",
       "      <td>...</td>\n",
       "      <td>False</td>\n",
       "      <td>False</td>\n",
       "      <td>False</td>\n",
       "      <td>False</td>\n",
       "      <td>False</td>\n",
       "      <td>False</td>\n",
       "      <td>False</td>\n",
       "      <td>False</td>\n",
       "      <td>True</td>\n",
       "      <td>False</td>\n",
       "    </tr>\n",
       "    <tr>\n",
       "      <th>1</th>\n",
       "      <td>536365</td>\n",
       "      <td>71053</td>\n",
       "      <td>WHITE METAL LANTERN</td>\n",
       "      <td>-0.029541</td>\n",
       "      <td>2010-12-01 08:26:00</td>\n",
       "      <td>-0.014756</td>\n",
       "      <td>17850.0</td>\n",
       "      <td>20.34</td>\n",
       "      <td>2010</td>\n",
       "      <td>12</td>\n",
       "      <td>...</td>\n",
       "      <td>False</td>\n",
       "      <td>False</td>\n",
       "      <td>False</td>\n",
       "      <td>False</td>\n",
       "      <td>False</td>\n",
       "      <td>False</td>\n",
       "      <td>False</td>\n",
       "      <td>False</td>\n",
       "      <td>True</td>\n",
       "      <td>False</td>\n",
       "    </tr>\n",
       "    <tr>\n",
       "      <th>2</th>\n",
       "      <td>536365</td>\n",
       "      <td>84406B</td>\n",
       "      <td>CREAM CUPID HEARTS COAT HANGER</td>\n",
       "      <td>-0.016743</td>\n",
       "      <td>2010-12-01 08:26:00</td>\n",
       "      <td>-0.032488</td>\n",
       "      <td>17850.0</td>\n",
       "      <td>22.00</td>\n",
       "      <td>2010</td>\n",
       "      <td>12</td>\n",
       "      <td>...</td>\n",
       "      <td>False</td>\n",
       "      <td>False</td>\n",
       "      <td>False</td>\n",
       "      <td>False</td>\n",
       "      <td>False</td>\n",
       "      <td>False</td>\n",
       "      <td>False</td>\n",
       "      <td>False</td>\n",
       "      <td>True</td>\n",
       "      <td>False</td>\n",
       "    </tr>\n",
       "    <tr>\n",
       "      <th>3</th>\n",
       "      <td>536365</td>\n",
       "      <td>84029G</td>\n",
       "      <td>KNITTED UNION FLAG HOT WATER BOTTLE</td>\n",
       "      <td>-0.029541</td>\n",
       "      <td>2010-12-01 08:26:00</td>\n",
       "      <td>-0.014756</td>\n",
       "      <td>17850.0</td>\n",
       "      <td>20.34</td>\n",
       "      <td>2010</td>\n",
       "      <td>12</td>\n",
       "      <td>...</td>\n",
       "      <td>False</td>\n",
       "      <td>False</td>\n",
       "      <td>False</td>\n",
       "      <td>False</td>\n",
       "      <td>False</td>\n",
       "      <td>False</td>\n",
       "      <td>False</td>\n",
       "      <td>False</td>\n",
       "      <td>True</td>\n",
       "      <td>False</td>\n",
       "    </tr>\n",
       "    <tr>\n",
       "      <th>4</th>\n",
       "      <td>536365</td>\n",
       "      <td>84029E</td>\n",
       "      <td>RED WOOLLY HOTTIE WHITE HEART.</td>\n",
       "      <td>-0.029541</td>\n",
       "      <td>2010-12-01 08:26:00</td>\n",
       "      <td>-0.014756</td>\n",
       "      <td>17850.0</td>\n",
       "      <td>20.34</td>\n",
       "      <td>2010</td>\n",
       "      <td>12</td>\n",
       "      <td>...</td>\n",
       "      <td>False</td>\n",
       "      <td>False</td>\n",
       "      <td>False</td>\n",
       "      <td>False</td>\n",
       "      <td>False</td>\n",
       "      <td>False</td>\n",
       "      <td>False</td>\n",
       "      <td>False</td>\n",
       "      <td>True</td>\n",
       "      <td>False</td>\n",
       "    </tr>\n",
       "  </tbody>\n",
       "</table>\n",
       "<p>5 rows × 52 columns</p>\n",
       "</div>"
      ],
      "text/plain": [
       "  InvoiceNo StockCode                          Description  Quantity  \\\n",
       "0    536365    85123A   WHITE HANGING HEART T-LIGHT HOLDER -0.029541   \n",
       "1    536365     71053                  WHITE METAL LANTERN -0.029541   \n",
       "2    536365    84406B       CREAM CUPID HEARTS COAT HANGER -0.016743   \n",
       "3    536365    84029G  KNITTED UNION FLAG HOT WATER BOTTLE -0.029541   \n",
       "4    536365    84029E       RED WOOLLY HOTTIE WHITE HEART. -0.029541   \n",
       "\n",
       "          InvoiceDate  UnitPrice  CustomerID  Amount  Year  Month  ...  \\\n",
       "0 2010-12-01 08:26:00  -0.038029     17850.0   15.30  2010     12  ...   \n",
       "1 2010-12-01 08:26:00  -0.014756     17850.0   20.34  2010     12  ...   \n",
       "2 2010-12-01 08:26:00  -0.032488     17850.0   22.00  2010     12  ...   \n",
       "3 2010-12-01 08:26:00  -0.014756     17850.0   20.34  2010     12  ...   \n",
       "4 2010-12-01 08:26:00  -0.014756     17850.0   20.34  2010     12  ...   \n",
       "\n",
       "   Country_RSA  Country_Saudi Arabia Country_Singapore  Country_Spain  \\\n",
       "0        False                 False             False          False   \n",
       "1        False                 False             False          False   \n",
       "2        False                 False             False          False   \n",
       "3        False                 False             False          False   \n",
       "4        False                 False             False          False   \n",
       "\n",
       "   Country_Sweden  Country_Switzerland  Country_USA  \\\n",
       "0           False                False        False   \n",
       "1           False                False        False   \n",
       "2           False                False        False   \n",
       "3           False                False        False   \n",
       "4           False                False        False   \n",
       "\n",
       "   Country_United Arab Emirates  Country_United Kingdom  Country_Unspecified  \n",
       "0                         False                    True                False  \n",
       "1                         False                    True                False  \n",
       "2                         False                    True                False  \n",
       "3                         False                    True                False  \n",
       "4                         False                    True                False  \n",
       "\n",
       "[5 rows x 52 columns]"
      ]
     },
     "execution_count": 147,
     "metadata": {},
     "output_type": "execute_result"
    }
   ],
   "source": [
    "Online_Retail.head()"
   ]
  },
  {
   "cell_type": "code",
   "execution_count": 149,
   "id": "ce534815-9e30-4ce5-a277-eccac4160f4f",
   "metadata": {},
   "outputs": [
    {
     "name": "stdout",
     "output_type": "stream",
     "text": [
      "\n",
      "Outlier Analysis (after cleaning):\n",
      "Outliers in each column:\n",
      "Quantity     27111\n",
      "UnitPrice    37827\n",
      "Amount       42624\n",
      "dtype: int64\n"
     ]
    }
   ],
   "source": [
    "# Check for outliers\n",
    "print(\"\\nOutlier Analysis (after cleaning):\")\n",
    "Q1 = Online_Retail[['Quantity', 'UnitPrice', 'Amount']].quantile(0.25)\n",
    "Q3 = Online_Retail[['Quantity', 'UnitPrice', 'Amount']].quantile(0.75)\n",
    "IQR = Q3 - Q1\n",
    "outliers = ((Online_Retail[['Quantity', 'UnitPrice', 'Amount']] < (Q1 - 1.5 * IQR)) | \n",
    "            (Online_Retail[['Quantity', 'UnitPrice', 'Amount']] > (Q3 + 1.5 * IQR))).sum()\n",
    "print(\"Outliers in each column:\")\n",
    "print(outliers)"
   ]
  },
  {
   "cell_type": "code",
   "execution_count": 151,
   "id": "5e5e2308-b978-4226-9625-e4fa949bab8c",
   "metadata": {},
   "outputs": [],
   "source": [
    "#  Convert CustomerID to proper type\n",
    "Online_Retail['CustomerID'] = Online_Retail['CustomerID'].astype(int)"
   ]
  },
  {
   "cell_type": "code",
   "execution_count": 153,
   "id": "76f21471-4f49-4cb1-b706-2ba83488486e",
   "metadata": {},
   "outputs": [
    {
     "name": "stdout",
     "output_type": "stream",
     "text": [
      "\n",
      "Final Dataset Info:\n",
      "<class 'pandas.core.frame.DataFrame'>\n",
      "Index: 524878 entries, 0 to 541908\n",
      "Data columns (total 52 columns):\n",
      " #   Column                        Non-Null Count   Dtype         \n",
      "---  ------                        --------------   -----         \n",
      " 0   InvoiceNo                     524878 non-null  object        \n",
      " 1   StockCode                     524878 non-null  object        \n",
      " 2   Description                   524878 non-null  object        \n",
      " 3   Quantity                      524878 non-null  float64       \n",
      " 4   InvoiceDate                   524878 non-null  datetime64[ns]\n",
      " 5   UnitPrice                     524878 non-null  float64       \n",
      " 6   CustomerID                    524878 non-null  int32         \n",
      " 7   Amount                        524878 non-null  float64       \n",
      " 8   Year                          524878 non-null  int32         \n",
      " 9   Month                         524878 non-null  int32         \n",
      " 10  Day                           524878 non-null  int32         \n",
      " 11  Hour                          524878 non-null  int32         \n",
      " 12  Date                          524878 non-null  object        \n",
      " 13  InvoiceDayOfWeek              524878 non-null  int32         \n",
      " 14  IsWeekend                     524878 non-null  int32         \n",
      " 15  Country_Austria               524878 non-null  bool          \n",
      " 16  Country_Bahrain               524878 non-null  bool          \n",
      " 17  Country_Belgium               524878 non-null  bool          \n",
      " 18  Country_Brazil                524878 non-null  bool          \n",
      " 19  Country_Canada                524878 non-null  bool          \n",
      " 20  Country_Channel Islands       524878 non-null  bool          \n",
      " 21  Country_Cyprus                524878 non-null  bool          \n",
      " 22  Country_Czech Republic        524878 non-null  bool          \n",
      " 23  Country_Denmark               524878 non-null  bool          \n",
      " 24  Country_EIRE                  524878 non-null  bool          \n",
      " 25  Country_European Community    524878 non-null  bool          \n",
      " 26  Country_Finland               524878 non-null  bool          \n",
      " 27  Country_France                524878 non-null  bool          \n",
      " 28  Country_Germany               524878 non-null  bool          \n",
      " 29  Country_Greece                524878 non-null  bool          \n",
      " 30  Country_Hong Kong             524878 non-null  bool          \n",
      " 31  Country_Iceland               524878 non-null  bool          \n",
      " 32  Country_Israel                524878 non-null  bool          \n",
      " 33  Country_Italy                 524878 non-null  bool          \n",
      " 34  Country_Japan                 524878 non-null  bool          \n",
      " 35  Country_Lebanon               524878 non-null  bool          \n",
      " 36  Country_Lithuania             524878 non-null  bool          \n",
      " 37  Country_Malta                 524878 non-null  bool          \n",
      " 38  Country_Netherlands           524878 non-null  bool          \n",
      " 39  Country_Norway                524878 non-null  bool          \n",
      " 40  Country_Poland                524878 non-null  bool          \n",
      " 41  Country_Portugal              524878 non-null  bool          \n",
      " 42  Country_RSA                   524878 non-null  bool          \n",
      " 43  Country_Saudi Arabia          524878 non-null  bool          \n",
      " 44  Country_Singapore             524878 non-null  bool          \n",
      " 45  Country_Spain                 524878 non-null  bool          \n",
      " 46  Country_Sweden                524878 non-null  bool          \n",
      " 47  Country_Switzerland           524878 non-null  bool          \n",
      " 48  Country_USA                   524878 non-null  bool          \n",
      " 49  Country_United Arab Emirates  524878 non-null  bool          \n",
      " 50  Country_United Kingdom        524878 non-null  bool          \n",
      " 51  Country_Unspecified           524878 non-null  bool          \n",
      "dtypes: bool(37), datetime64[ns](1), float64(3), int32(7), object(4)\n",
      "memory usage: 68.6+ MB\n"
     ]
    }
   ],
   "source": [
    "print(\"\\nFinal Dataset Info:\")\n",
    "Online_Retail.info()\n"
   ]
  },
  {
   "cell_type": "code",
   "execution_count": 155,
   "id": "ac128919-97a2-4656-9572-f45859f4af83",
   "metadata": {},
   "outputs": [
    {
     "data": {
      "image/png": "[encoded data removed]",
      "text/plain": [
       "<Figure size 600x500 with 2 Axes>"
      ]
     },
     "metadata": {},
     "output_type": "display_data"
    }
   ],
   "source": [
    "#  Display correlation matrix for numerical features\n",
    "numerical_features = ['Quantity', 'UnitPrice', 'Amount']\n",
    "plt.figure(figsize=(6, 5))\n",
    "correlation_matrix = Online_Retail[numerical_features].corr()\n",
    "sns.heatmap(correlation_matrix, annot=True, cmap='coolwarm', center=0)\n",
    "plt.title('Correlation Matrix of Numerical Features')\n",
    "plt.tight_layout()\n",
    "plt.show()"
   ]
  },
  {
   "cell_type": "code",
   "execution_count": 157,
   "id": "754bed7e-e5db-4e85-ae3e-8a0f6b96266e",
   "metadata": {},
   "outputs": [
    {
     "data": {
      "text/html": [
       "<div>\n",
       "<style scoped>\n",
       "    .dataframe tbody tr th:only-of-type {\n",
       "        vertical-align: middle;\n",
       "    }\n",
       "\n",
       "    .dataframe tbody tr th {\n",
       "        vertical-align: top;\n",
       "    }\n",
       "\n",
       "    .dataframe thead th {\n",
       "        text-align: right;\n",
       "    }\n",
       "</style>\n",
       "<table border=\"1\" class=\"dataframe\">\n",
       "  <thead>\n",
       "    <tr style=\"text-align: right;\">\n",
       "      <th></th>\n",
       "      <th>InvoiceNo</th>\n",
       "      <th>StockCode</th>\n",
       "      <th>Description</th>\n",
       "      <th>Quantity</th>\n",
       "      <th>InvoiceDate</th>\n",
       "      <th>UnitPrice</th>\n",
       "      <th>CustomerID</th>\n",
       "      <th>Amount</th>\n",
       "      <th>Year</th>\n",
       "      <th>Month</th>\n",
       "      <th>...</th>\n",
       "      <th>Country_RSA</th>\n",
       "      <th>Country_Saudi Arabia</th>\n",
       "      <th>Country_Singapore</th>\n",
       "      <th>Country_Spain</th>\n",
       "      <th>Country_Sweden</th>\n",
       "      <th>Country_Switzerland</th>\n",
       "      <th>Country_USA</th>\n",
       "      <th>Country_United Arab Emirates</th>\n",
       "      <th>Country_United Kingdom</th>\n",
       "      <th>Country_Unspecified</th>\n",
       "    </tr>\n",
       "  </thead>\n",
       "  <tbody>\n",
       "    <tr>\n",
       "      <th>0</th>\n",
       "      <td>536365</td>\n",
       "      <td>85123A</td>\n",
       "      <td>WHITE HANGING HEART T-LIGHT HOLDER</td>\n",
       "      <td>-0.029541</td>\n",
       "      <td>2010-12-01 08:26:00</td>\n",
       "      <td>-0.038029</td>\n",
       "      <td>17850</td>\n",
       "      <td>15.30</td>\n",
       "      <td>2010</td>\n",
       "      <td>12</td>\n",
       "      <td>...</td>\n",
       "      <td>False</td>\n",
       "      <td>False</td>\n",
       "      <td>False</td>\n",
       "      <td>False</td>\n",
       "      <td>False</td>\n",
       "      <td>False</td>\n",
       "      <td>False</td>\n",
       "      <td>False</td>\n",
       "      <td>True</td>\n",
       "      <td>False</td>\n",
       "    </tr>\n",
       "    <tr>\n",
       "      <th>1</th>\n",
       "      <td>536365</td>\n",
       "      <td>71053</td>\n",
       "      <td>WHITE METAL LANTERN</td>\n",
       "      <td>-0.029541</td>\n",
       "      <td>2010-12-01 08:26:00</td>\n",
       "      <td>-0.014756</td>\n",
       "      <td>17850</td>\n",
       "      <td>20.34</td>\n",
       "      <td>2010</td>\n",
       "      <td>12</td>\n",
       "      <td>...</td>\n",
       "      <td>False</td>\n",
       "      <td>False</td>\n",
       "      <td>False</td>\n",
       "      <td>False</td>\n",
       "      <td>False</td>\n",
       "      <td>False</td>\n",
       "      <td>False</td>\n",
       "      <td>False</td>\n",
       "      <td>True</td>\n",
       "      <td>False</td>\n",
       "    </tr>\n",
       "    <tr>\n",
       "      <th>2</th>\n",
       "      <td>536365</td>\n",
       "      <td>84406B</td>\n",
       "      <td>CREAM CUPID HEARTS COAT HANGER</td>\n",
       "      <td>-0.016743</td>\n",
       "      <td>2010-12-01 08:26:00</td>\n",
       "      <td>-0.032488</td>\n",
       "      <td>17850</td>\n",
       "      <td>22.00</td>\n",
       "      <td>2010</td>\n",
       "      <td>12</td>\n",
       "      <td>...</td>\n",
       "      <td>False</td>\n",
       "      <td>False</td>\n",
       "      <td>False</td>\n",
       "      <td>False</td>\n",
       "      <td>False</td>\n",
       "      <td>False</td>\n",
       "      <td>False</td>\n",
       "      <td>False</td>\n",
       "      <td>True</td>\n",
       "      <td>False</td>\n",
       "    </tr>\n",
       "    <tr>\n",
       "      <th>3</th>\n",
       "      <td>536365</td>\n",
       "      <td>84029G</td>\n",
       "      <td>KNITTED UNION FLAG HOT WATER BOTTLE</td>\n",
       "      <td>-0.029541</td>\n",
       "      <td>2010-12-01 08:26:00</td>\n",
       "      <td>-0.014756</td>\n",
       "      <td>17850</td>\n",
       "      <td>20.34</td>\n",
       "      <td>2010</td>\n",
       "      <td>12</td>\n",
       "      <td>...</td>\n",
       "      <td>False</td>\n",
       "      <td>False</td>\n",
       "      <td>False</td>\n",
       "      <td>False</td>\n",
       "      <td>False</td>\n",
       "      <td>False</td>\n",
       "      <td>False</td>\n",
       "      <td>False</td>\n",
       "      <td>True</td>\n",
       "      <td>False</td>\n",
       "    </tr>\n",
       "    <tr>\n",
       "      <th>4</th>\n",
       "      <td>536365</td>\n",
       "      <td>84029E</td>\n",
       "      <td>RED WOOLLY HOTTIE WHITE HEART.</td>\n",
       "      <td>-0.029541</td>\n",
       "      <td>2010-12-01 08:26:00</td>\n",
       "      <td>-0.014756</td>\n",
       "      <td>17850</td>\n",
       "      <td>20.34</td>\n",
       "      <td>2010</td>\n",
       "      <td>12</td>\n",
       "      <td>...</td>\n",
       "      <td>False</td>\n",
       "      <td>False</td>\n",
       "      <td>False</td>\n",
       "      <td>False</td>\n",
       "      <td>False</td>\n",
       "      <td>False</td>\n",
       "      <td>False</td>\n",
       "      <td>False</td>\n",
       "      <td>True</td>\n",
       "      <td>False</td>\n",
       "    </tr>\n",
       "  </tbody>\n",
       "</table>\n",
       "<p>5 rows × 52 columns</p>\n",
       "</div>"
      ],
      "text/plain": [
       "  InvoiceNo StockCode                          Description  Quantity  \\\n",
       "0    536365    85123A   WHITE HANGING HEART T-LIGHT HOLDER -0.029541   \n",
       "1    536365     71053                  WHITE METAL LANTERN -0.029541   \n",
       "2    536365    84406B       CREAM CUPID HEARTS COAT HANGER -0.016743   \n",
       "3    536365    84029G  KNITTED UNION FLAG HOT WATER BOTTLE -0.029541   \n",
       "4    536365    84029E       RED WOOLLY HOTTIE WHITE HEART. -0.029541   \n",
       "\n",
       "          InvoiceDate  UnitPrice  CustomerID  Amount  Year  Month  ...  \\\n",
       "0 2010-12-01 08:26:00  -0.038029       17850   15.30  2010     12  ...   \n",
       "1 2010-12-01 08:26:00  -0.014756       17850   20.34  2010     12  ...   \n",
       "2 2010-12-01 08:26:00  -0.032488       17850   22.00  2010     12  ...   \n",
       "3 2010-12-01 08:26:00  -0.014756       17850   20.34  2010     12  ...   \n",
       "4 2010-12-01 08:26:00  -0.014756       17850   20.34  2010     12  ...   \n",
       "\n",
       "   Country_RSA  Country_Saudi Arabia Country_Singapore  Country_Spain  \\\n",
       "0        False                 False             False          False   \n",
       "1        False                 False             False          False   \n",
       "2        False                 False             False          False   \n",
       "3        False                 False             False          False   \n",
       "4        False                 False             False          False   \n",
       "\n",
       "   Country_Sweden  Country_Switzerland  Country_USA  \\\n",
       "0           False                False        False   \n",
       "1           False                False        False   \n",
       "2           False                False        False   \n",
       "3           False                False        False   \n",
       "4           False                False        False   \n",
       "\n",
       "   Country_United Arab Emirates  Country_United Kingdom  Country_Unspecified  \n",
       "0                         False                    True                False  \n",
       "1                         False                    True                False  \n",
       "2                         False                    True                False  \n",
       "3                         False                    True                False  \n",
       "4                         False                    True                False  \n",
       "\n",
       "[5 rows x 52 columns]"
      ]
     },
     "execution_count": 157,
     "metadata": {},
     "output_type": "execute_result"
    }
   ],
   "source": [
    "Online_Retail.head()"
   ]
  },
  {
   "cell_type": "code",
   "execution_count": 159,
   "id": "9354cef2-d13d-4352-b273-836f1d45c496",
   "metadata": {},
   "outputs": [
    {
     "name": "stdout",
     "output_type": "stream",
     "text": [
      "Data types: bool              37\n",
      "int32              7\n",
      "object             4\n",
      "float64            3\n",
      "datetime64[ns]     1\n",
      "Name: count, dtype: int64\n",
      "Boolean columns: ['Country_Austria', 'Country_Bahrain', 'Country_Belgium', 'Country_Brazil', 'Country_Canada', 'Country_Channel Islands', 'Country_Cyprus', 'Country_Czech Republic', 'Country_Denmark', 'Country_EIRE', 'Country_European Community', 'Country_Finland', 'Country_France', 'Country_Germany', 'Country_Greece', 'Country_Hong Kong', 'Country_Iceland', 'Country_Israel', 'Country_Italy', 'Country_Japan', 'Country_Lebanon', 'Country_Lithuania', 'Country_Malta', 'Country_Netherlands', 'Country_Norway', 'Country_Poland', 'Country_Portugal', 'Country_RSA', 'Country_Saudi Arabia', 'Country_Singapore', 'Country_Spain', 'Country_Sweden', 'Country_Switzerland', 'Country_USA', 'Country_United Arab Emirates', 'Country_United Kingdom', 'Country_Unspecified']\n"
     ]
    }
   ],
   "source": [
    "# Check current state\n",
    "print(f\"Data types: {Online_Retail.dtypes.value_counts()}\")\n",
    "print(f\"Boolean columns: {Online_Retail.select_dtypes(include='bool').columns.tolist()}\")\n",
    "\n"
   ]
  },
  {
   "cell_type": "markdown",
   "id": "4c45ac69-72fc-4ff1-b5a4-1bd8aeb9b28d",
   "metadata": {},
   "source": [
    "**Standardize the Data**"
   ]
  },
  {
   "cell_type": "code",
   "execution_count": 162,
   "id": "20db466f-5ce0-4fe8-8c4f-fe77fb8fecce",
   "metadata": {},
   "outputs": [
    {
     "name": "stdout",
     "output_type": "stream",
     "text": [
      "SIMPLE CUSTOMER SEGMENTATION WITH K-MEANS\n"
     ]
    }
   ],
   "source": [
    "# ========== SIMPLE K-MEANS CLUSTERING ==========\n",
    "\n",
    "print(\"SIMPLE CUSTOMER SEGMENTATION WITH K-MEANS\")\n"
   ]
  },
  {
   "cell_type": "code",
   "execution_count": 164,
   "id": "f531738b-38e0-476e-8b6e-a1e3f94329d2",
   "metadata": {},
   "outputs": [
    {
     "name": "stdout",
     "output_type": "stream",
     "text": [
      "\n",
      "1. Preparing RFM Data...\n"
     ]
    }
   ],
   "source": [
    "# Prepare RFM Data\n",
    "print(\"\\n1. Preparing RFM Data...\")"
   ]
  },
  {
   "cell_type": "code",
   "execution_count": 166,
   "id": "3858f4b3-4d5d-4399-886e-6bba58cee875",
   "metadata": {},
   "outputs": [],
   "source": [
    "# Use the RFM data we already created\n",
    "rfm_features = ['Recency', 'Frequency', 'Monetary']\n",
    "X = rfm[rfm_features].copy()"
   ]
  },
  {
   "cell_type": "code",
   "execution_count": 168,
   "id": "3778e67a-3f1d-4eb5-b2b3-8ca2d98dfbb7",
   "metadata": {},
   "outputs": [
    {
     "name": "stdout",
     "output_type": "stream",
     "text": [
      "\n",
      "2. Standardizing Data...\n"
     ]
    }
   ],
   "source": [
    "# ========== STEP 2: Standardize Data ==========\n",
    "print(\"\\n2. Standardizing Data...\")"
   ]
  },
  {
   "cell_type": "code",
   "execution_count": 170,
   "id": "2a569506-6a6e-45e1-8e92-a748dead9382",
   "metadata": {},
   "outputs": [
    {
     "name": "stdout",
     "output_type": "stream",
     "text": [
      "Data standardized\n"
     ]
    }
   ],
   "source": [
    "# Standardize and cluster (this works with mixed numerical + boolean)\n",
    "scaler = StandardScaler()\n",
    "X_scaled = scaler.fit_transform(X)\n",
    "print(\"Data standardized\")"
   ]
  },
  {
   "cell_type": "markdown",
   "id": "a99b0f38-82fa-4688-9991-5936197dc1f6",
   "metadata": {},
   "source": [
    "**Determine the Optimal Number of Clusters**"
   ]
  },
  {
   "cell_type": "code",
   "execution_count": 173,
   "id": "e72dced5-2e70-4194-a6ac-99d68d89a182",
   "metadata": {},
   "outputs": [
    {
     "name": "stdout",
     "output_type": "stream",
     "text": [
      "\n",
      "3. Finding Optimal Clusters...\n"
     ]
    }
   ],
   "source": [
    "#  Find Best Number of Clusters\n",
    "print(\"\\n3. Finding Optimal Clusters...\")\n"
   ]
  },
  {
   "cell_type": "code",
   "execution_count": 175,
   "id": "f74ad83e-5d99-4fee-b107-b690d6bc1d14",
   "metadata": {},
   "outputs": [
    {
     "name": "stdout",
     "output_type": "stream",
     "text": [
      "k=2: WCSS = 5270\n",
      "k=3: WCSS = 1800\n",
      "k=4: WCSS = 1332\n",
      "k=5: WCSS = 915\n",
      "k=6: WCSS = 717\n",
      "k=7: WCSS = 583\n"
     ]
    }
   ],
   "source": [
    "# Simple elbow method\n",
    "wcss = []\n",
    "for k in range(2, 8):\n",
    "    kmeans = KMeans(n_clusters=k, random_state=42, n_init=10)\n",
    "    kmeans.fit(X_scaled)\n",
    "    wcss.append(kmeans.inertia_)\n",
    "    print(f\"k={k}: WCSS = {kmeans.inertia_:.0f}\")\n"
   ]
  },
  {
   "cell_type": "code",
   "execution_count": 177,
   "id": "669981ab-fc25-4ade-b266-27e0d7d1bcb1",
   "metadata": {},
   "outputs": [
    {
     "data": {
      "image/png": "[encoded data removed]",
      "text/plain": [
       "<Figure size 1000x400 with 1 Axes>"
      ]
     },
     "metadata": {},
     "output_type": "display_data"
    }
   ],
   "source": [
    "# Plot elbow curve\n",
    "plt.figure(figsize=(10, 4))\n",
    "plt.plot(range(2, 8), wcss, 'bo-')\n",
    "plt.xlabel('Number of Clusters')\n",
    "plt.ylabel('WCSS')\n",
    "plt.title('Elbow Method')\n",
    "plt.grid(True)\n",
    "plt.show()"
   ]
  },
  {
   "cell_type": "code",
   "execution_count": 179,
   "id": "6a62f2e9-b0f8-4f57-8dc4-d31644381ede",
   "metadata": {},
   "outputs": [
    {
     "name": "stdout",
     "output_type": "stream",
     "text": [
      "Selected clusters: 4\n"
     ]
    }
   ],
   "source": [
    "# Choose k=4 (common choice for RFM)\n",
    "optimal_k = 4\n",
    "print(f\"Selected clusters: {optimal_k}\")\n",
    "\n"
   ]
  },
  {
   "cell_type": "markdown",
   "id": "d2d7adb6-ce43-490a-a6cc-46a9005531f8",
   "metadata": {},
   "source": [
    "**Run K-Means Clustering**"
   ]
  },
  {
   "cell_type": "code",
   "execution_count": 182,
   "id": "dd7316d8-a7d6-4be4-9b2d-55b793796984",
   "metadata": {},
   "outputs": [
    {
     "name": "stdout",
     "output_type": "stream",
     "text": [
      "\n",
      "4. Running K-Means with 4 clusters...\n"
     ]
    }
   ],
   "source": [
    "# ========== STEP 4: Run K-Means ==========\n",
    "print(f\"\\n4. Running K-Means with {optimal_k} clusters...\")\n",
    "\n",
    "kmeans = KMeans(n_clusters=optimal_k, random_state=42, n_init=10)\n",
    "clusters = kmeans.fit_predict(X_scaled)"
   ]
  },
  {
   "cell_type": "code",
   "execution_count": 184,
   "id": "387630c3-a901-4ad2-bbc9-970a1213e272",
   "metadata": {},
   "outputs": [
    {
     "name": "stdout",
     "output_type": "stream",
     "text": [
      "Clustering completed!\n",
      "Cluster sizes:\n",
      "Cluster\n",
      "0     819\n",
      "1       1\n",
      "2     626\n",
      "3    2893\n",
      "Name: count, dtype: int64\n"
     ]
    }
   ],
   "source": [
    "# Add clusters to RFM data\n",
    "rfm_clustered = X.copy()\n",
    "rfm_clustered['Cluster'] = clusters\n",
    "\n",
    "print(\"Clustering completed!\")\n",
    "print(f\"Cluster sizes:\\n{rfm_clustered['Cluster'].value_counts().sort_index()}\")"
   ]
  },
  {
   "cell_type": "code",
   "execution_count": 186,
   "id": "c2aca5d6-9692-4b6a-8066-35613187f02e",
   "metadata": {},
   "outputs": [
    {
     "name": "stdout",
     "output_type": "stream",
     "text": [
      "\n",
      "5. Creating Visualizations...\n"
     ]
    },
    {
     "data": {
      "text/plain": [
       "<matplotlib.colorbar.Colorbar at 0x14bf2a7e690>"
      ]
     },
     "execution_count": 186,
     "metadata": {},
     "output_type": "execute_result"
    },
    {
     "data": {
      "image/png": "[encoded data removed]",
      "text/plain": [
       "<Figure size 1500x500 with 2 Axes>"
      ]
     },
     "metadata": {},
     "output_type": "display_data"
    }
   ],
   "source": [
    "# Simple Visualizations\n",
    "print(\"\\n5. Creating Visualizations...\")\n",
    "\n",
    "# Create one simple visualization\n",
    "plt.figure(figsize=(15, 5))\n",
    "# Plot 1: Recency vs Frequency\n",
    "plt.subplot(1, 3, 1)\n",
    "plt.scatter(rfm_clustered['Recency'], rfm_clustered['Frequency'], \n",
    "           c=rfm_clustered['Cluster'], cmap='viridis', alpha=0.6)\n",
    "plt.xlabel('Recency (days)')\n",
    "plt.ylabel('Frequency')\n",
    "plt.title('Recency vs Frequency')\n",
    "plt.colorbar(label='Cluster')"
   ]
  },
  {
   "cell_type": "markdown",
   "id": "fad55475-2e46-4834-a5af-4c7b459807d0",
   "metadata": {},
   "source": [
    "Most of the points are near 0 to 50 and frequency < 200 this means most of the customers have recently purchased but not too frequently.\n",
    "very few customer has very high frequency > 1400 and very low recency less than 10\n",
    "recency > 200 frequency very low thet are inactive customers"
   ]
  },
  {
   "cell_type": "code",
   "execution_count": 206,
   "id": "a0bc3893-66e4-4dde-a335-2c0fb7e380f7",
   "metadata": {},
   "outputs": [
    {
     "data": {
      "text/plain": [
       "<matplotlib.colorbar.Colorbar at 0x14bf9bc8b30>"
      ]
     },
     "execution_count": 206,
     "metadata": {},
     "output_type": "execute_result"
    },
    {
     "data": {
      "image/png": "[encoded data removed]",
      "text/plain": [
       "<Figure size 640x480 with 2 Axes>"
      ]
     },
     "metadata": {},
     "output_type": "display_data"
    }
   ],
   "source": [
    "# Plot 2: Frequency vs Monetary\n",
    "plt.subplot(1, 3, 2)\n",
    "plt.scatter(rfm_clustered['Frequency'], rfm_clustered['Monetary'], \n",
    "           c=rfm_clustered['Cluster'], cmap='viridis', alpha=0.6)\n",
    "plt.xlabel('Frequency')\n",
    "plt.ylabel('Monetary ($)')\n",
    "plt.title('Frequency vs Monetary')\n",
    "plt.colorbar(label='Cluster')"
   ]
  },
  {
   "cell_type": "code",
   "execution_count": 208,
   "id": "b86528d5-15ad-408d-8f3d-e0c904bc05b5",
   "metadata": {},
   "outputs": [
    {
     "data": {
      "image/png": "[encoded data removed]",
      "text/plain": [
       "<Figure size 640x480 with 1 Axes>"
      ]
     },
     "metadata": {},
     "output_type": "display_data"
    }
   ],
   "source": [
    "# Plot 3: Cluster distribution\n",
    "plt.subplot(1, 3, 3)\n",
    "cluster_counts = rfm_clustered['Cluster'].value_counts().sort_index()\n",
    "plt.bar(cluster_counts.index, cluster_counts.values, color=['red', 'blue', 'green', 'orange'])\n",
    "plt.xlabel('Cluster')\n",
    "plt.ylabel('Number of Customers')\n",
    "plt.title('Customers per Cluster')\n",
    "for i, count in enumerate(cluster_counts.values):\n",
    "    plt.text(i, count, str(count), ha='center', va='bottom')\n",
    "\n",
    "plt.tight_layout()\n",
    "plt.show()"
   ]
  },
  {
   "cell_type": "code",
   "execution_count": 210,
   "id": "beb900fb-07eb-4dea-a157-b4cfe0f2cd9a",
   "metadata": {},
   "outputs": [
    {
     "name": "stdout",
     "output_type": "stream",
     "text": [
      "\n",
      "6. Cluster Analysis:\n"
     ]
    }
   ],
   "source": [
    "# Analyze Clusters\n",
    "print(\"\\n6. Cluster Analysis:\")\n"
   ]
  },
  {
   "cell_type": "code",
   "execution_count": 212,
   "id": "34476831-de07-490f-962a-2c0403ebd4ee",
   "metadata": {},
   "outputs": [
    {
     "name": "stdout",
     "output_type": "stream",
     "text": [
      "\n",
      "Cluster Statistics:\n",
      "        Recency       Frequency   Monetary\n",
      "           mean count      mean       mean\n",
      "Cluster                                   \n",
      "0         152.4   819       2.2      792.6\n",
      "1           1.0     1    1428.0  1754901.9\n",
      "2         294.4   626       1.4      605.7\n",
      "3          31.9  2893       5.5     2716.5\n"
     ]
    }
   ],
   "source": [
    "# Simple statistics\n",
    "cluster_stats = rfm_clustered.groupby('Cluster').agg({\n",
    "    'Recency': ['mean', 'count'],\n",
    "    'Frequency': 'mean',\n",
    "    'Monetary': 'mean'\n",
    "}).round(1)\n",
    "\n",
    "print(\"\\nCluster Statistics:\")\n",
    "print(cluster_stats)"
   ]
  },
  {
   "cell_type": "code",
   "execution_count": 217,
   "id": "ac83810b-9915-48d2-bb69-2f85c82bab53",
   "metadata": {},
   "outputs": [
    {
     "name": "stdout",
     "output_type": "stream",
     "text": [
      "\n",
      "7. Customer Profiles:\n",
      "\n",
      "Cluster 0 (819 customers):\n",
      "  • Avg Recency: 152 days\n",
      "  • Avg Frequency: 2.2 purchases\n",
      "  • Avg Spending: $793\n",
      "  → Regular Customers\n",
      "\n",
      "Cluster 1 (1 customers):\n",
      "  • Avg Recency: 1 days\n",
      "  • Avg Frequency: 1428.0 purchases\n",
      "  • Avg Spending: $1754902\n",
      "  → Premium Customers\n",
      "\n",
      "Cluster 2 (626 customers):\n",
      "  • Avg Recency: 294 days\n",
      "  • Avg Frequency: 1.4 purchases\n",
      "  • Avg Spending: $606\n",
      "  → Inactive Customers\n",
      "\n",
      "Cluster 3 (2893 customers):\n",
      "  • Avg Recency: 32 days\n",
      "  • Avg Frequency: 5.5 purchases\n",
      "  • Avg Spending: $2717\n",
      "  → Premium Customers\n"
     ]
    }
   ],
   "source": [
    "# ========== STEP 7: Customer Profiles ==========\n",
    "print(\"\\n7. Customer Profiles:\")\n",
    "\n",
    "for cluster in sorted(rfm_clustered['Cluster'].unique()):\n",
    "    data = rfm_clustered[rfm_clustered['Cluster'] == cluster]\n",
    "    \n",
    "    print(f\"\\nCluster {cluster} ({len(data)} customers):\")\n",
    "    print(f\"  • Avg Recency: {data['Recency'].mean():.0f} days\")\n",
    "    print(f\"  • Avg Frequency: {data['Frequency'].mean():.1f} purchases\")\n",
    "    print(f\"  • Avg Spending: ${data['Monetary'].mean():.0f}\")\n",
    "    \n",
    "    # Simple classification\n",
    "    if data['Recency'].mean() < 100 and data['Monetary'].mean() > 500:\n",
    "        print(\"  → Premium Customers\")\n",
    "    elif data['Recency'].mean() > 200:\n",
    "        print(\"  → Inactive Customers\")\n",
    "    elif data['Frequency'].mean() > 5:\n",
    "        print(\"  → Loyal Customers\")\n",
    "    else:\n",
    "        print(\"  → Regular Customers\")"
   ]
  },
  {
   "cell_type": "code",
   "execution_count": 223,
   "id": "70e3f2d7-d809-4510-bc40-8d520a4d1a71",
   "metadata": {},
   "outputs": [
    {
     "data": {
      "image/png": "[encoded data removed]",
      "text/plain": [
       "<Figure size 640x480 with 1 Axes>"
      ]
     },
     "metadata": {},
     "output_type": "display_data"
    }
   ],
   "source": [
    "segments = ['Premium', 'Regular', 'Inactive']\n",
    "avg_spend = [2717, 793, 606]  # Average spending per segment\n",
    "\n",
    "plt.bar(segments, avg_spend, color=['gold', 'blue', 'red'])\n",
    "plt.title('Average Spending by Customer Segment')\n",
    "plt.ylabel('Dollars ($)')\n",
    "plt.show()"
   ]
  },
  {
   "cell_type": "code",
   "execution_count": null,
   "id": "f3ef9647-5b1c-4aeb-b4dd-ab57f323c1b7",
   "metadata": {},
   "outputs": [],
   "source": []
  },
  {
   "cell_type": "code",
   "execution_count": null,
   "id": "f7cbd848-abdd-4627-bff6-01208f4b97bc",
   "metadata": {},
   "outputs": [],
   "source": []
  }
 ],
 "metadata": {
  "kernelspec": {
   "display_name": "Python [conda env:base] *",
   "language": "python",
   "name": "conda-base-py"
  },
  "language_info": {
   "codemirror_mode": {
    "name": "ipython",
    "version": 3
   },
   "file_extension": ".py",
   "mimetype": "text/x-python",
   "name": "python",
   "nbconvert_exporter": "python",
   "pygments_lexer": "ipython3",
   "version": "3.12.7"
  }
 },
 "nbformat": 4,
 "nbformat_minor": 5
}
